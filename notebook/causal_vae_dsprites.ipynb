{
  "nbformat": 4,
  "nbformat_minor": 0,
  "metadata": {
    "kernelspec": {
      "name": "python3",
      "display_name": "Python 3"
    },
    "language_info": {
      "codemirror_mode": {
        "name": "ipython",
        "version": 3
      },
      "file_extension": ".py",
      "mimetype": "text/x-python",
      "name": "python",
      "nbconvert_exporter": "python",
      "pygments_lexer": "ipython3",
      "version": "3.6.8"
    },
    "colab": {
      "name": "causal_vae_dsprites.ipynb",
      "provenance": [],
      "collapsed_sections": [],
      "machine_shape": "hm",
      "include_colab_link": true
    },
    "accelerator": "GPU",
    "widgets": {
      "application/vnd.jupyter.widget-state+json": {
        "4969c4ddec084e04b6247ae51baee513": {
          "model_module": "@jupyter-widgets/controls",
          "model_name": "VBoxModel",
          "state": {
            "_view_name": "VBoxView",
            "_dom_classes": [
              "widget-interact"
            ],
            "_model_name": "VBoxModel",
            "_view_module": "@jupyter-widgets/controls",
            "_model_module_version": "1.5.0",
            "_view_count": null,
            "_view_module_version": "1.5.0",
            "box_style": "",
            "layout": "IPY_MODEL_2cb47361bc6e4cbb9552462804f0b230",
            "_model_module": "@jupyter-widgets/controls",
            "children": [
              "IPY_MODEL_75ed4cf9665b40639cf146dad39d24d2",
              "IPY_MODEL_2770f7492812468fb56c4fa037423493"
            ]
          }
        },
        "2cb47361bc6e4cbb9552462804f0b230": {
          "model_module": "@jupyter-widgets/base",
          "model_name": "LayoutModel",
          "state": {
            "_view_name": "LayoutView",
            "grid_template_rows": null,
            "right": null,
            "justify_content": null,
            "_view_module": "@jupyter-widgets/base",
            "overflow": null,
            "_model_module_version": "1.2.0",
            "_view_count": null,
            "flex_flow": null,
            "width": null,
            "min_width": null,
            "border": null,
            "align_items": null,
            "bottom": null,
            "_model_module": "@jupyter-widgets/base",
            "top": null,
            "grid_column": null,
            "overflow_y": null,
            "overflow_x": null,
            "grid_auto_flow": null,
            "grid_area": null,
            "grid_template_columns": null,
            "flex": null,
            "_model_name": "LayoutModel",
            "justify_items": null,
            "grid_row": null,
            "max_height": null,
            "align_content": null,
            "visibility": null,
            "align_self": null,
            "height": null,
            "min_height": null,
            "padding": null,
            "grid_auto_rows": null,
            "grid_gap": null,
            "max_width": null,
            "order": null,
            "_view_module_version": "1.2.0",
            "grid_template_areas": null,
            "object_position": null,
            "object_fit": null,
            "grid_auto_columns": null,
            "margin": null,
            "display": null,
            "left": null
          }
        },
        "75ed4cf9665b40639cf146dad39d24d2": {
          "model_module": "@jupyter-widgets/controls",
          "model_name": "IntSliderModel",
          "state": {
            "_view_name": "IntSliderView",
            "style": "IPY_MODEL_7efb2cf9c3bf4cd78ae2e2c58ec406b0",
            "_dom_classes": [],
            "description": "x",
            "step": 1,
            "_model_name": "IntSliderModel",
            "orientation": "horizontal",
            "max": 256,
            "_view_module": "@jupyter-widgets/controls",
            "_model_module_version": "1.5.0",
            "value": 0,
            "_view_count": null,
            "disabled": false,
            "_view_module_version": "1.5.0",
            "min": 0,
            "continuous_update": true,
            "readout_format": "d",
            "description_tooltip": null,
            "readout": true,
            "_model_module": "@jupyter-widgets/controls",
            "layout": "IPY_MODEL_c6797637e99c4266b04df597f8de7e49"
          }
        },
        "2770f7492812468fb56c4fa037423493": {
          "model_module": "@jupyter-widgets/output",
          "model_name": "OutputModel",
          "state": {
            "_view_name": "OutputView",
            "msg_id": "",
            "_dom_classes": [],
            "_model_name": "OutputModel",
            "outputs": [
              {
                "output_type": "display_data",
                "metadata": {
                  "tags": []
                },
                "image/png": "iVBORw0KGgoAAAANSUhEUgAAAV0AAACmCAYAAAB5qlzZAAAABHNCSVQICAgIfAhkiAAAAAlwSFlz\nAAALEgAACxIB0t1+/AAAADh0RVh0U29mdHdhcmUAbWF0cGxvdGxpYiB2ZXJzaW9uMy4yLjEsIGh0\ndHA6Ly9tYXRwbG90bGliLm9yZy+j8jraAAACx0lEQVR4nO3czWoCMRhAUVN8/1dOV4KLVihlbqI5\nZzswZhEvH/M35pw3ABpfqxcAcBLRBQiJLkBIdAFCogsQEl2A0P3VwTGG58m41JxzrPhde5ur/ba3\nTboAIdEFCIkuQEh0AUKiCxASXYCQ6AKERBcgJLoAIdEFCIkuQEh0AUKiCxASXYCQ6AKERBcgJLoA\nIdEFCIkuQEh0AUKiCxASXYCQ6AKERBcgJLoAIdEFCIkuQEh0AUKiCxASXYCQ6AKE7qsX8BdzztVL\nuI0xVi+BD3bVHn/s25/Ob0+3TLoAIdEFCL3V5QX4VFdfOnt1/scxlxkaJl2AkOjCBsYYJs1DiC5A\nSHQBQqILEBJdgJBHxmADO7xtScOkCxASXYCQ6AKERBcgJLqwAW+knUN0AUKiCxASXYCQ6AKERBcg\nJLoAId9egA349sI5TLoAIdGFDXg54hyiCxASXYCQ6AKERBcg5JEx2IBHxs5h0gUIiS5ASHQBQqIL\nEHqrG2ne2OFTVXv7+Yad/9MaJl2A0FtNusD/mG7XM+kChEQXICS6ACHRBQiJLkBIdAFCogsQEl2A\nkOgChEQXICS6ACHRBQiJLkBIdAFCogsQEl2AkOgChEQXICS6ACHRBQiJLkBIdAFCogsQEl2AkOgC\nhEQXICS6ACHRBQiJLkBIdAFCogsQEl2AkOgChEQXICS6ACHRBQiJLkBIdAFCogsQEl2AkOgChEQX\nICS6ACHRBQiJLkBIdAFCogsQEl2AkOgChEQXICS6ACHRBQiJLkBIdAFCogsQEl2AkOgChEQXICS6\nACHRBQiJLkBIdAFCogsQEl2AkOgChEQXICS6ACHRBQiJLkBIdAFCogsQEl2AkOgChEQXICS6ACHR\nBQiJLkBIdAFCogsQEl2AkOgChEQXICS6AKEx51y9BoBjmHQBQqILEBJdgJDoAoREFyAkugChb44L\nLWECEoJcAAAAAElFTkSuQmCC\n",
                "text/plain": "<Figure size 432x288 with 2 Axes>"
              }
            ],
            "_view_module": "@jupyter-widgets/output",
            "_model_module_version": "1.0.0",
            "_view_count": null,
            "_view_module_version": "1.0.0",
            "layout": "IPY_MODEL_a7e06293fa014fb287ff75701f8a137d",
            "_model_module": "@jupyter-widgets/output"
          }
        },
        "7efb2cf9c3bf4cd78ae2e2c58ec406b0": {
          "model_module": "@jupyter-widgets/controls",
          "model_name": "SliderStyleModel",
          "state": {
            "_view_name": "StyleView",
            "handle_color": null,
            "_model_name": "SliderStyleModel",
            "description_width": "",
            "_view_module": "@jupyter-widgets/base",
            "_model_module_version": "1.5.0",
            "_view_count": null,
            "_view_module_version": "1.2.0",
            "_model_module": "@jupyter-widgets/controls"
          }
        },
        "c6797637e99c4266b04df597f8de7e49": {
          "model_module": "@jupyter-widgets/base",
          "model_name": "LayoutModel",
          "state": {
            "_view_name": "LayoutView",
            "grid_template_rows": null,
            "right": null,
            "justify_content": null,
            "_view_module": "@jupyter-widgets/base",
            "overflow": null,
            "_model_module_version": "1.2.0",
            "_view_count": null,
            "flex_flow": null,
            "width": null,
            "min_width": null,
            "border": null,
            "align_items": null,
            "bottom": null,
            "_model_module": "@jupyter-widgets/base",
            "top": null,
            "grid_column": null,
            "overflow_y": null,
            "overflow_x": null,
            "grid_auto_flow": null,
            "grid_area": null,
            "grid_template_columns": null,
            "flex": null,
            "_model_name": "LayoutModel",
            "justify_items": null,
            "grid_row": null,
            "max_height": null,
            "align_content": null,
            "visibility": null,
            "align_self": null,
            "height": null,
            "min_height": null,
            "padding": null,
            "grid_auto_rows": null,
            "grid_gap": null,
            "max_width": null,
            "order": null,
            "_view_module_version": "1.2.0",
            "grid_template_areas": null,
            "object_position": null,
            "object_fit": null,
            "grid_auto_columns": null,
            "margin": null,
            "display": null,
            "left": null
          }
        },
        "a7e06293fa014fb287ff75701f8a137d": {
          "model_module": "@jupyter-widgets/base",
          "model_name": "LayoutModel",
          "state": {
            "_view_name": "LayoutView",
            "grid_template_rows": null,
            "right": null,
            "justify_content": null,
            "_view_module": "@jupyter-widgets/base",
            "overflow": null,
            "_model_module_version": "1.2.0",
            "_view_count": null,
            "flex_flow": null,
            "width": null,
            "min_width": null,
            "border": null,
            "align_items": null,
            "bottom": null,
            "_model_module": "@jupyter-widgets/base",
            "top": null,
            "grid_column": null,
            "overflow_y": null,
            "overflow_x": null,
            "grid_auto_flow": null,
            "grid_area": null,
            "grid_template_columns": null,
            "flex": null,
            "_model_name": "LayoutModel",
            "justify_items": null,
            "grid_row": null,
            "max_height": null,
            "align_content": null,
            "visibility": null,
            "align_self": null,
            "height": null,
            "min_height": null,
            "padding": null,
            "grid_auto_rows": null,
            "grid_gap": null,
            "max_width": null,
            "order": null,
            "_view_module_version": "1.2.0",
            "grid_template_areas": null,
            "object_position": null,
            "object_fit": null,
            "grid_auto_columns": null,
            "margin": null,
            "display": null,
            "left": null
          }
        },
        "ad31791351414fa484bec0c90b37b258": {
          "model_module": "@jupyter-widgets/controls",
          "model_name": "VBoxModel",
          "state": {
            "_view_name": "VBoxView",
            "_dom_classes": [
              "widget-interact"
            ],
            "_model_name": "VBoxModel",
            "_view_module": "@jupyter-widgets/controls",
            "_model_module_version": "1.5.0",
            "_view_count": null,
            "_view_module_version": "1.5.0",
            "box_style": "",
            "layout": "IPY_MODEL_32aa5d81e13f4896a4dc9792da58e8d9",
            "_model_module": "@jupyter-widgets/controls",
            "children": [
              "IPY_MODEL_335ae76e6a1248f680b4770530326a12",
              "IPY_MODEL_ee1d47d05bde48f5a05a29852fdfff04",
              "IPY_MODEL_8752102e922e4b56a0e450d6ec13cae9",
              "IPY_MODEL_e5f357a9da1a42aab362ac457ac200bd",
              "IPY_MODEL_ade3f02748ac4d1c9fe6b4c183835bdb",
              "IPY_MODEL_e911efd3502443cd93b82a0b2e1344a5"
            ]
          }
        },
        "32aa5d81e13f4896a4dc9792da58e8d9": {
          "model_module": "@jupyter-widgets/base",
          "model_name": "LayoutModel",
          "state": {
            "_view_name": "LayoutView",
            "grid_template_rows": null,
            "right": null,
            "justify_content": null,
            "_view_module": "@jupyter-widgets/base",
            "overflow": null,
            "_model_module_version": "1.2.0",
            "_view_count": null,
            "flex_flow": null,
            "width": null,
            "min_width": null,
            "border": null,
            "align_items": null,
            "bottom": null,
            "_model_module": "@jupyter-widgets/base",
            "top": null,
            "grid_column": null,
            "overflow_y": null,
            "overflow_x": null,
            "grid_auto_flow": null,
            "grid_area": null,
            "grid_template_columns": null,
            "flex": null,
            "_model_name": "LayoutModel",
            "justify_items": null,
            "grid_row": null,
            "max_height": null,
            "align_content": null,
            "visibility": null,
            "align_self": null,
            "height": null,
            "min_height": null,
            "padding": null,
            "grid_auto_rows": null,
            "grid_gap": null,
            "max_width": null,
            "order": null,
            "_view_module_version": "1.2.0",
            "grid_template_areas": null,
            "object_position": null,
            "object_fit": null,
            "grid_auto_columns": null,
            "margin": null,
            "display": null,
            "left": null
          }
        },
        "335ae76e6a1248f680b4770530326a12": {
          "model_module": "@jupyter-widgets/controls",
          "model_name": "IntSliderModel",
          "state": {
            "_view_name": "IntSliderView",
            "style": "IPY_MODEL_936467ff769c4065bd9d492b920dedce",
            "_dom_classes": [],
            "description": "shape",
            "step": 1,
            "_model_name": "IntSliderModel",
            "orientation": "horizontal",
            "max": 2,
            "_view_module": "@jupyter-widgets/controls",
            "_model_module_version": "1.5.0",
            "value": 0,
            "_view_count": null,
            "disabled": false,
            "_view_module_version": "1.5.0",
            "min": 0,
            "continuous_update": true,
            "readout_format": "d",
            "description_tooltip": null,
            "readout": true,
            "_model_module": "@jupyter-widgets/controls",
            "layout": "IPY_MODEL_944e3b4278f14bbdb0f72b473a86f70b"
          }
        },
        "ee1d47d05bde48f5a05a29852fdfff04": {
          "model_module": "@jupyter-widgets/controls",
          "model_name": "IntSliderModel",
          "state": {
            "_view_name": "IntSliderView",
            "style": "IPY_MODEL_0fa3760328bd4250bcfd5962df7039db",
            "_dom_classes": [],
            "description": "scale",
            "step": 1,
            "_model_name": "IntSliderModel",
            "orientation": "horizontal",
            "max": 5,
            "_view_module": "@jupyter-widgets/controls",
            "_model_module_version": "1.5.0",
            "value": 0,
            "_view_count": null,
            "disabled": false,
            "_view_module_version": "1.5.0",
            "min": 0,
            "continuous_update": true,
            "readout_format": "d",
            "description_tooltip": null,
            "readout": true,
            "_model_module": "@jupyter-widgets/controls",
            "layout": "IPY_MODEL_875043ad67bd48b998be9a3b5fc1b49c"
          }
        },
        "8752102e922e4b56a0e450d6ec13cae9": {
          "model_module": "@jupyter-widgets/controls",
          "model_name": "IntSliderModel",
          "state": {
            "_view_name": "IntSliderView",
            "style": "IPY_MODEL_3acfd91b731141899024b9335652ea05",
            "_dom_classes": [],
            "description": "orient",
            "step": 1,
            "_model_name": "IntSliderModel",
            "orientation": "horizontal",
            "max": 39,
            "_view_module": "@jupyter-widgets/controls",
            "_model_module_version": "1.5.0",
            "value": 0,
            "_view_count": null,
            "disabled": false,
            "_view_module_version": "1.5.0",
            "min": 0,
            "continuous_update": true,
            "readout_format": "d",
            "description_tooltip": null,
            "readout": true,
            "_model_module": "@jupyter-widgets/controls",
            "layout": "IPY_MODEL_504ece69aa0f48a9ab98dbfb3be3b064"
          }
        },
        "e5f357a9da1a42aab362ac457ac200bd": {
          "model_module": "@jupyter-widgets/controls",
          "model_name": "IntSliderModel",
          "state": {
            "_view_name": "IntSliderView",
            "style": "IPY_MODEL_c81294b72aba49c5b9bc73e094db3990",
            "_dom_classes": [],
            "description": "posX",
            "step": 1,
            "_model_name": "IntSliderModel",
            "orientation": "horizontal",
            "max": 31,
            "_view_module": "@jupyter-widgets/controls",
            "_model_module_version": "1.5.0",
            "value": 0,
            "_view_count": null,
            "disabled": false,
            "_view_module_version": "1.5.0",
            "min": 0,
            "continuous_update": true,
            "readout_format": "d",
            "description_tooltip": null,
            "readout": true,
            "_model_module": "@jupyter-widgets/controls",
            "layout": "IPY_MODEL_bbc7ac94519249c486ace8f9dae2c056"
          }
        },
        "ade3f02748ac4d1c9fe6b4c183835bdb": {
          "model_module": "@jupyter-widgets/controls",
          "model_name": "IntSliderModel",
          "state": {
            "_view_name": "IntSliderView",
            "style": "IPY_MODEL_d0966162bba346659ad9e3b3461fe0ab",
            "_dom_classes": [],
            "description": "posY",
            "step": 1,
            "_model_name": "IntSliderModel",
            "orientation": "horizontal",
            "max": 31,
            "_view_module": "@jupyter-widgets/controls",
            "_model_module_version": "1.5.0",
            "value": 0,
            "_view_count": null,
            "disabled": false,
            "_view_module_version": "1.5.0",
            "min": 0,
            "continuous_update": true,
            "readout_format": "d",
            "description_tooltip": null,
            "readout": true,
            "_model_module": "@jupyter-widgets/controls",
            "layout": "IPY_MODEL_97a41b4a71d44a8a9095065530b56293"
          }
        },
        "e911efd3502443cd93b82a0b2e1344a5": {
          "model_module": "@jupyter-widgets/output",
          "model_name": "OutputModel",
          "state": {
            "_view_name": "OutputView",
            "msg_id": "",
            "_dom_classes": [],
            "_model_name": "OutputModel",
            "outputs": [
              {
                "output_type": "display_data",
                "metadata": {
                  "tags": []
                },
                "image/png": "iVBORw0KGgoAAAANSUhEUgAAAOcAAADnCAYAAADl9EEgAAAABHNCSVQICAgIfAhkiAAAAAlwSFlz\nAAALEgAACxIB0t1+/AAAADh0RVh0U29mdHdhcmUAbWF0cGxvdGxpYiB2ZXJzaW9uMy4yLjEsIGh0\ndHA6Ly9tYXRwbG90bGliLm9yZy+j8jraAAAC4klEQVR4nO3dMW4DMQwAQdO4/3+Z6VwdDKQItLFn\nSqlhsyCgRrO7D6DneXoA4J44IUqcECVOiBInRF3vLmfGUy78sd2du3ObE6LECVHihChxQpQ4IUqc\nECVOiBInRIkTosQJUeKEKHFClDghSpwQJU6IEidEiROixAlR4oQocUKUOCFKnBAlTogSJ0SJE6LE\nCVHihChxQpQ4IUqcECVOiBInRIkTosQJUeKEKHFC1HV6gN/a3dMjvMzM6RH4YDYnRIkTosQJUeKE\nKHFClDghSpwQJU6IEidEiROixAlR4oQocUKUOCFKnBAlTogSJ0SJE6LECVHihChxQpQ4IUqcECVO\niBInRIkTosQJUeKEKHFClDghSpwQJU6IEidEiROi/t23875651vYnBAlTogSJ0SJE6LECVHihChx\nQpQ4IUqcECVOiBInRIkTosQJUeKEKHFClDghSpwQJU6IEidEiROixAlR4oQocUKUOCFKnBAlTogS\nJ0SJE6LECVHihChxQpQ4IUqcECVOiBInRIkTosQJUeKEKHFClDghSpwQJU6IEidEiROixAlR4oQo\ncUKUOCFKnBAlTogSJ0SJE6LECVHihChxQpQ4IUqcECVOiBInRIkTosQJUeKEKHFClDghSpwQJU6I\nEidEiROixAlR4oQocUKUOCFKnBAlTogSJ0SJE6LECVHihChxQpQ4IUqcECVOiBInRIkTosQJUeKE\nKHFClDghSpwQJU6IEidEiROixAlR4oQocUKUOCFKnBAlTogSJ0SJE6LECVHihChxQpQ4IUqcECVO\niBInRIkTosQJUeKEKHFClDghSpwQJU6IEidEiROixAlR4oQocUKUOCFKnBAlTogSJ0SJE6LECVHi\nhChxQpQ4IUqcECVOiBInRIkTosQJUeKEKHFClDghSpwQJU6IEidEiROixAlR4oQocUKUOCFKnBA1\nu3t6BuCGzQlR4oQocUKUOCFKnBAlToj6AZUlDtC8HnrcAAAAAElFTkSuQmCC\n",
                "text/plain": "<Figure size 432x288 with 1 Axes>"
              }
            ],
            "_view_module": "@jupyter-widgets/output",
            "_model_module_version": "1.0.0",
            "_view_count": null,
            "_view_module_version": "1.0.0",
            "layout": "IPY_MODEL_acd7693b0d224a6b8658b1ca3bb48a62",
            "_model_module": "@jupyter-widgets/output"
          }
        },
        "936467ff769c4065bd9d492b920dedce": {
          "model_module": "@jupyter-widgets/controls",
          "model_name": "SliderStyleModel",
          "state": {
            "_view_name": "StyleView",
            "handle_color": null,
            "_model_name": "SliderStyleModel",
            "description_width": "",
            "_view_module": "@jupyter-widgets/base",
            "_model_module_version": "1.5.0",
            "_view_count": null,
            "_view_module_version": "1.2.0",
            "_model_module": "@jupyter-widgets/controls"
          }
        },
        "944e3b4278f14bbdb0f72b473a86f70b": {
          "model_module": "@jupyter-widgets/base",
          "model_name": "LayoutModel",
          "state": {
            "_view_name": "LayoutView",
            "grid_template_rows": null,
            "right": null,
            "justify_content": null,
            "_view_module": "@jupyter-widgets/base",
            "overflow": null,
            "_model_module_version": "1.2.0",
            "_view_count": null,
            "flex_flow": null,
            "width": null,
            "min_width": null,
            "border": null,
            "align_items": null,
            "bottom": null,
            "_model_module": "@jupyter-widgets/base",
            "top": null,
            "grid_column": null,
            "overflow_y": null,
            "overflow_x": null,
            "grid_auto_flow": null,
            "grid_area": null,
            "grid_template_columns": null,
            "flex": null,
            "_model_name": "LayoutModel",
            "justify_items": null,
            "grid_row": null,
            "max_height": null,
            "align_content": null,
            "visibility": null,
            "align_self": null,
            "height": null,
            "min_height": null,
            "padding": null,
            "grid_auto_rows": null,
            "grid_gap": null,
            "max_width": null,
            "order": null,
            "_view_module_version": "1.2.0",
            "grid_template_areas": null,
            "object_position": null,
            "object_fit": null,
            "grid_auto_columns": null,
            "margin": null,
            "display": null,
            "left": null
          }
        },
        "0fa3760328bd4250bcfd5962df7039db": {
          "model_module": "@jupyter-widgets/controls",
          "model_name": "SliderStyleModel",
          "state": {
            "_view_name": "StyleView",
            "handle_color": null,
            "_model_name": "SliderStyleModel",
            "description_width": "",
            "_view_module": "@jupyter-widgets/base",
            "_model_module_version": "1.5.0",
            "_view_count": null,
            "_view_module_version": "1.2.0",
            "_model_module": "@jupyter-widgets/controls"
          }
        },
        "875043ad67bd48b998be9a3b5fc1b49c": {
          "model_module": "@jupyter-widgets/base",
          "model_name": "LayoutModel",
          "state": {
            "_view_name": "LayoutView",
            "grid_template_rows": null,
            "right": null,
            "justify_content": null,
            "_view_module": "@jupyter-widgets/base",
            "overflow": null,
            "_model_module_version": "1.2.0",
            "_view_count": null,
            "flex_flow": null,
            "width": null,
            "min_width": null,
            "border": null,
            "align_items": null,
            "bottom": null,
            "_model_module": "@jupyter-widgets/base",
            "top": null,
            "grid_column": null,
            "overflow_y": null,
            "overflow_x": null,
            "grid_auto_flow": null,
            "grid_area": null,
            "grid_template_columns": null,
            "flex": null,
            "_model_name": "LayoutModel",
            "justify_items": null,
            "grid_row": null,
            "max_height": null,
            "align_content": null,
            "visibility": null,
            "align_self": null,
            "height": null,
            "min_height": null,
            "padding": null,
            "grid_auto_rows": null,
            "grid_gap": null,
            "max_width": null,
            "order": null,
            "_view_module_version": "1.2.0",
            "grid_template_areas": null,
            "object_position": null,
            "object_fit": null,
            "grid_auto_columns": null,
            "margin": null,
            "display": null,
            "left": null
          }
        },
        "3acfd91b731141899024b9335652ea05": {
          "model_module": "@jupyter-widgets/controls",
          "model_name": "SliderStyleModel",
          "state": {
            "_view_name": "StyleView",
            "handle_color": null,
            "_model_name": "SliderStyleModel",
            "description_width": "",
            "_view_module": "@jupyter-widgets/base",
            "_model_module_version": "1.5.0",
            "_view_count": null,
            "_view_module_version": "1.2.0",
            "_model_module": "@jupyter-widgets/controls"
          }
        },
        "504ece69aa0f48a9ab98dbfb3be3b064": {
          "model_module": "@jupyter-widgets/base",
          "model_name": "LayoutModel",
          "state": {
            "_view_name": "LayoutView",
            "grid_template_rows": null,
            "right": null,
            "justify_content": null,
            "_view_module": "@jupyter-widgets/base",
            "overflow": null,
            "_model_module_version": "1.2.0",
            "_view_count": null,
            "flex_flow": null,
            "width": null,
            "min_width": null,
            "border": null,
            "align_items": null,
            "bottom": null,
            "_model_module": "@jupyter-widgets/base",
            "top": null,
            "grid_column": null,
            "overflow_y": null,
            "overflow_x": null,
            "grid_auto_flow": null,
            "grid_area": null,
            "grid_template_columns": null,
            "flex": null,
            "_model_name": "LayoutModel",
            "justify_items": null,
            "grid_row": null,
            "max_height": null,
            "align_content": null,
            "visibility": null,
            "align_self": null,
            "height": null,
            "min_height": null,
            "padding": null,
            "grid_auto_rows": null,
            "grid_gap": null,
            "max_width": null,
            "order": null,
            "_view_module_version": "1.2.0",
            "grid_template_areas": null,
            "object_position": null,
            "object_fit": null,
            "grid_auto_columns": null,
            "margin": null,
            "display": null,
            "left": null
          }
        },
        "c81294b72aba49c5b9bc73e094db3990": {
          "model_module": "@jupyter-widgets/controls",
          "model_name": "SliderStyleModel",
          "state": {
            "_view_name": "StyleView",
            "handle_color": null,
            "_model_name": "SliderStyleModel",
            "description_width": "",
            "_view_module": "@jupyter-widgets/base",
            "_model_module_version": "1.5.0",
            "_view_count": null,
            "_view_module_version": "1.2.0",
            "_model_module": "@jupyter-widgets/controls"
          }
        },
        "bbc7ac94519249c486ace8f9dae2c056": {
          "model_module": "@jupyter-widgets/base",
          "model_name": "LayoutModel",
          "state": {
            "_view_name": "LayoutView",
            "grid_template_rows": null,
            "right": null,
            "justify_content": null,
            "_view_module": "@jupyter-widgets/base",
            "overflow": null,
            "_model_module_version": "1.2.0",
            "_view_count": null,
            "flex_flow": null,
            "width": null,
            "min_width": null,
            "border": null,
            "align_items": null,
            "bottom": null,
            "_model_module": "@jupyter-widgets/base",
            "top": null,
            "grid_column": null,
            "overflow_y": null,
            "overflow_x": null,
            "grid_auto_flow": null,
            "grid_area": null,
            "grid_template_columns": null,
            "flex": null,
            "_model_name": "LayoutModel",
            "justify_items": null,
            "grid_row": null,
            "max_height": null,
            "align_content": null,
            "visibility": null,
            "align_self": null,
            "height": null,
            "min_height": null,
            "padding": null,
            "grid_auto_rows": null,
            "grid_gap": null,
            "max_width": null,
            "order": null,
            "_view_module_version": "1.2.0",
            "grid_template_areas": null,
            "object_position": null,
            "object_fit": null,
            "grid_auto_columns": null,
            "margin": null,
            "display": null,
            "left": null
          }
        },
        "d0966162bba346659ad9e3b3461fe0ab": {
          "model_module": "@jupyter-widgets/controls",
          "model_name": "SliderStyleModel",
          "state": {
            "_view_name": "StyleView",
            "handle_color": null,
            "_model_name": "SliderStyleModel",
            "description_width": "",
            "_view_module": "@jupyter-widgets/base",
            "_model_module_version": "1.5.0",
            "_view_count": null,
            "_view_module_version": "1.2.0",
            "_model_module": "@jupyter-widgets/controls"
          }
        },
        "97a41b4a71d44a8a9095065530b56293": {
          "model_module": "@jupyter-widgets/base",
          "model_name": "LayoutModel",
          "state": {
            "_view_name": "LayoutView",
            "grid_template_rows": null,
            "right": null,
            "justify_content": null,
            "_view_module": "@jupyter-widgets/base",
            "overflow": null,
            "_model_module_version": "1.2.0",
            "_view_count": null,
            "flex_flow": null,
            "width": null,
            "min_width": null,
            "border": null,
            "align_items": null,
            "bottom": null,
            "_model_module": "@jupyter-widgets/base",
            "top": null,
            "grid_column": null,
            "overflow_y": null,
            "overflow_x": null,
            "grid_auto_flow": null,
            "grid_area": null,
            "grid_template_columns": null,
            "flex": null,
            "_model_name": "LayoutModel",
            "justify_items": null,
            "grid_row": null,
            "max_height": null,
            "align_content": null,
            "visibility": null,
            "align_self": null,
            "height": null,
            "min_height": null,
            "padding": null,
            "grid_auto_rows": null,
            "grid_gap": null,
            "max_width": null,
            "order": null,
            "_view_module_version": "1.2.0",
            "grid_template_areas": null,
            "object_position": null,
            "object_fit": null,
            "grid_auto_columns": null,
            "margin": null,
            "display": null,
            "left": null
          }
        },
        "acd7693b0d224a6b8658b1ca3bb48a62": {
          "model_module": "@jupyter-widgets/base",
          "model_name": "LayoutModel",
          "state": {
            "_view_name": "LayoutView",
            "grid_template_rows": null,
            "right": null,
            "justify_content": null,
            "_view_module": "@jupyter-widgets/base",
            "overflow": null,
            "_model_module_version": "1.2.0",
            "_view_count": null,
            "flex_flow": null,
            "width": null,
            "min_width": null,
            "border": null,
            "align_items": null,
            "bottom": null,
            "_model_module": "@jupyter-widgets/base",
            "top": null,
            "grid_column": null,
            "overflow_y": null,
            "overflow_x": null,
            "grid_auto_flow": null,
            "grid_area": null,
            "grid_template_columns": null,
            "flex": null,
            "_model_name": "LayoutModel",
            "justify_items": null,
            "grid_row": null,
            "max_height": null,
            "align_content": null,
            "visibility": null,
            "align_self": null,
            "height": null,
            "min_height": null,
            "padding": null,
            "grid_auto_rows": null,
            "grid_gap": null,
            "max_width": null,
            "order": null,
            "_view_module_version": "1.2.0",
            "grid_template_areas": null,
            "object_position": null,
            "object_fit": null,
            "grid_auto_columns": null,
            "margin": null,
            "display": null,
            "left": null
          }
        }
      }
    }
  },
  "cells": [
    {
      "cell_type": "markdown",
      "metadata": {
        "id": "view-in-github",
        "colab_type": "text"
      },
      "source": [
        "<a href=\"https://colab.research.google.com/github/Jingciii/Causal-Modeling_VAE/blob/master/notebook/causal_vae_dsprites.ipynb\" target=\"_parent\"><img src=\"https://colab.research.google.com/assets/colab-badge.svg\" alt=\"Open In Colab\"/></a>"
      ]
    },
    {
      "cell_type": "markdown",
      "metadata": {
        "id": "zSOMAHldq2xR",
        "colab_type": "text"
      },
      "source": [
        "## Deep Causal Variational Inference\n",
        "\n",
        "### Introduction:\n",
        "To train a supervised variational autoencoder using Deepmind's [dSprites](https://github.com/deepmind/dsprites-dataset) dataset.\n",
        "\n",
        "dSprites is a dataset of sprites, which are 2D shapes procedurally generated from 5 ground truth independent \"factors.\" These factors are color, shape, scale, rotation, x and y positions of a sprite.\n",
        "\n",
        "All possible combinations of these variables are present exactly once, generating N = 737280 total images.\n",
        "\n",
        "Factors and their values:\n",
        "\n",
        "* Shape: 3 values {square, ellipse, heart}\n",
        "* Scale: 6 values linearly spaced in (0.5, 1)\n",
        "* Orientation: 40 values in (0, 2$\\pi$)\n",
        "* Position X: 32 values in (0, 1)\n",
        "* Position Y: 32 values in (0, 1)\n",
        "\n",
        "\n",
        "Further, the objective of any generative model is essentially to capture underlying data generative factors, the disentangled representation would mean a single latent unit being sensitive to variations in single generative factors\n",
        "\n",
        "\n",
        "### Goal:\n",
        "To include the latent factors  as labels in the training and to invent a causal story that relates these factors and the images in a DAG.\n",
        "\n",
        "Reference \n",
        "\n",
        "[Structured Disentangled Representation](https://arxiv.org/pdf/1804.02086.pdf)"
      ]
    },
    {
      "cell_type": "code",
      "metadata": {
        "id": "CMhHGoIwCwkN",
        "colab_type": "code",
        "outputId": "2bee0e11-506e-424c-c5ef-b499a88484e1",
        "colab": {
          "base_uri": "https://localhost:8080/",
          "height": 547
        }
      },
      "source": [
        "#Install dependencies\n",
        "!pip3 install pyro-ppl\n",
        "!pip3 install torch torchvision\n",
        "!pip3 install pydrive --upgrade\n",
        "!pip3 install tqdm"
      ],
      "execution_count": 0,
      "outputs": [
        {
          "output_type": "stream",
          "text": [
            "Collecting pyro-ppl\n",
            "\u001b[?25l  Downloading https://files.pythonhosted.org/packages/c0/77/4db4946f6b5bf0601869c7b7594def42a7197729167484e1779fff5ca0d6/pyro_ppl-1.3.1-py3-none-any.whl (520kB)\n",
            "\u001b[K     |████████████████████████████████| 522kB 2.8MB/s \n",
            "\u001b[?25hCollecting pyro-api>=0.1.1\n",
            "  Downloading https://files.pythonhosted.org/packages/c2/bc/6cdbd1929e32fff62a33592633c2cc0393c7f7739131ccc9c9c4e28ac8dd/pyro_api-0.1.1-py3-none-any.whl\n",
            "Requirement already satisfied: opt-einsum>=2.3.2 in /usr/local/lib/python3.6/dist-packages (from pyro-ppl) (3.2.0)\n",
            "Requirement already satisfied: tqdm>=4.36 in /usr/local/lib/python3.6/dist-packages (from pyro-ppl) (4.38.0)\n",
            "Requirement already satisfied: torch>=1.4.0 in /usr/local/lib/python3.6/dist-packages (from pyro-ppl) (1.4.0)\n",
            "Requirement already satisfied: numpy>=1.7 in /usr/local/lib/python3.6/dist-packages (from pyro-ppl) (1.18.2)\n",
            "Installing collected packages: pyro-api, pyro-ppl\n",
            "Successfully installed pyro-api-0.1.1 pyro-ppl-1.3.1\n",
            "Requirement already satisfied: torch in /usr/local/lib/python3.6/dist-packages (1.4.0)\n",
            "Requirement already satisfied: torchvision in /usr/local/lib/python3.6/dist-packages (0.5.0)\n",
            "Requirement already satisfied: numpy in /usr/local/lib/python3.6/dist-packages (from torchvision) (1.18.2)\n",
            "Requirement already satisfied: six in /usr/local/lib/python3.6/dist-packages (from torchvision) (1.12.0)\n",
            "Requirement already satisfied: pillow>=4.1.1 in /usr/local/lib/python3.6/dist-packages (from torchvision) (7.0.0)\n",
            "Requirement already up-to-date: pydrive in /usr/local/lib/python3.6/dist-packages (1.3.1)\n",
            "Requirement already satisfied, skipping upgrade: google-api-python-client>=1.2 in /usr/local/lib/python3.6/dist-packages (from pydrive) (1.7.12)\n",
            "Requirement already satisfied, skipping upgrade: oauth2client>=4.0.0 in /usr/local/lib/python3.6/dist-packages (from pydrive) (4.1.3)\n",
            "Requirement already satisfied, skipping upgrade: PyYAML>=3.0 in /usr/local/lib/python3.6/dist-packages (from pydrive) (3.13)\n",
            "Requirement already satisfied, skipping upgrade: six<2dev,>=1.6.1 in /usr/local/lib/python3.6/dist-packages (from google-api-python-client>=1.2->pydrive) (1.12.0)\n",
            "Requirement already satisfied, skipping upgrade: uritemplate<4dev,>=3.0.0 in /usr/local/lib/python3.6/dist-packages (from google-api-python-client>=1.2->pydrive) (3.0.1)\n",
            "Requirement already satisfied, skipping upgrade: httplib2<1dev,>=0.17.0 in /usr/local/lib/python3.6/dist-packages (from google-api-python-client>=1.2->pydrive) (0.17.1)\n",
            "Requirement already satisfied, skipping upgrade: google-auth-httplib2>=0.0.3 in /usr/local/lib/python3.6/dist-packages (from google-api-python-client>=1.2->pydrive) (0.0.3)\n",
            "Requirement already satisfied, skipping upgrade: google-auth>=1.4.1 in /usr/local/lib/python3.6/dist-packages (from google-api-python-client>=1.2->pydrive) (1.7.2)\n",
            "Requirement already satisfied, skipping upgrade: pyasn1-modules>=0.0.5 in /usr/local/lib/python3.6/dist-packages (from oauth2client>=4.0.0->pydrive) (0.2.8)\n",
            "Requirement already satisfied, skipping upgrade: rsa>=3.1.4 in /usr/local/lib/python3.6/dist-packages (from oauth2client>=4.0.0->pydrive) (4.0)\n",
            "Requirement already satisfied, skipping upgrade: pyasn1>=0.1.7 in /usr/local/lib/python3.6/dist-packages (from oauth2client>=4.0.0->pydrive) (0.4.8)\n",
            "Requirement already satisfied, skipping upgrade: cachetools<3.2,>=2.0.0 in /usr/local/lib/python3.6/dist-packages (from google-auth>=1.4.1->google-api-python-client>=1.2->pydrive) (3.1.1)\n",
            "Requirement already satisfied, skipping upgrade: setuptools>=40.3.0 in /usr/local/lib/python3.6/dist-packages (from google-auth>=1.4.1->google-api-python-client>=1.2->pydrive) (46.1.3)\n",
            "Requirement already satisfied: tqdm in /usr/local/lib/python3.6/dist-packages (4.38.0)\n"
          ],
          "name": "stdout"
        }
      ]
    },
    {
      "cell_type": "code",
      "metadata": {
        "id": "uNa3MO8GCqWg",
        "colab_type": "code",
        "colab": {}
      },
      "source": [
        "# Load necessary libraries\n",
        "from matplotlib import pyplot as plt\n",
        "import numpy as np\n",
        "import seaborn as sns\n",
        "\n",
        "import os\n",
        "from collections import defaultdict\n",
        "\n",
        "import torch\n",
        "import torch.nn as nn\n",
        "\n",
        "from tqdm import tqdm\n",
        "import pyro\n",
        "import pyro.distributions as dist\n",
        "from pyro.infer import SVI, Trace_ELBO, TraceEnum_ELBO, config_enumerate, EmpiricalMarginal\n",
        "from pyro.optim import Adam, SGD\n",
        "import torch.distributions.constraints as constraints\n",
        "\n",
        "# Change figure aesthetics\n",
        "%matplotlib inline\n",
        "sns.set_context('talk', font_scale=1.2, rc={'lines.linewidth': 1.5})\n",
        "\n",
        "from ipywidgets import interact, interactive, fixed, interact_manual\n",
        "import ipywidgets as widgets\n",
        "\n",
        "#to utilize GPU capabilities\n",
        "USE_CUDA = True\n",
        "\n",
        "pyro.enable_validation(True)\n",
        "pyro.distributions.enable_validation(False)"
      ],
      "execution_count": 0,
      "outputs": []
    },
    {
      "cell_type": "markdown",
      "metadata": {
        "id": "tUV6bfcUxeS3",
        "colab_type": "text"
      },
      "source": [
        "If this is being run on google colab (which is advisable), have a copy of your dataset in your google drive. "
      ]
    },
    {
      "cell_type": "code",
      "metadata": {
        "id": "nkXRHmSqDFTy",
        "colab_type": "code",
        "outputId": "828a4114-0260-409b-bc2e-e7c7b9e1c148",
        "colab": {
          "base_uri": "https://localhost:8080/",
          "height": 118
        }
      },
      "source": [
        "# Mount Google drive to load data\n",
        "from google.colab import drive\n",
        "drive.mount('/content/gdrive')"
      ],
      "execution_count": 0,
      "outputs": [
        {
          "output_type": "stream",
          "text": [
            "Go to this URL in a browser: https://accounts.google.com/o/oauth2/auth?client_id=947318989803-6bn6qk8qdgf4n4g3pfee6491hc0brc4i.apps.googleusercontent.com&redirect_uri=urn%3aietf%3awg%3aoauth%3a2.0%3aoob&response_type=code&scope=email%20https%3a%2f%2fwww.googleapis.com%2fauth%2fdocs.test%20https%3a%2f%2fwww.googleapis.com%2fauth%2fdrive%20https%3a%2f%2fwww.googleapis.com%2fauth%2fdrive.photos.readonly%20https%3a%2f%2fwww.googleapis.com%2fauth%2fpeopleapi.readonly\n",
            "\n",
            "Enter your authorization code:\n",
            "··········\n",
            "Mounted at /content/gdrive\n"
          ],
          "name": "stdout"
        }
      ]
    },
    {
      "cell_type": "code",
      "metadata": {
        "id": "cqyc4SqyDLIq",
        "colab_type": "code",
        "outputId": "9611ee33-8107-4a29-8387-a39e41f48a6c",
        "colab": {
          "base_uri": "https://localhost:8080/",
          "height": 230
        }
      },
      "source": [
        "# Hack to get all available GPU ram.\n",
        "\n",
        "import tensorflow as tf\n",
        "tf.test.gpu_device_name()\n",
        "\n",
        "!ln -sf /opt/bin/nvidia-smi /usr/bin/nvidia-smi\n",
        "!pip install gputil\n",
        "!pip install psutil\n",
        "!pip install humanize\n",
        "import psutil\n",
        "import humanize\n",
        "import os\n",
        "import GPUtil as GPU\n",
        "GPUs = GPU.getGPUs()\n",
        "# XXX: only one GPU on Colab and isn’t guaranteed\n",
        "gpu = GPUs[0]\n",
        "def printm():\n",
        " process = psutil.Process(os.getpid())\n",
        " print(\"Gen RAM Free: \" + humanize.naturalsize( psutil.virtual_memory().available ), \" | Proc size: \" + humanize.naturalsize( process.memory_info().rss))\n",
        " print(\"GPU RAM Free: {0:.0f}MB | Used: {1:.0f}MB | Util {2:3.0f}% | Total {3:.0f}MB\".format(gpu.memoryFree, gpu.memoryUsed, gpu.memoryUtil*100, gpu.memoryTotal))\n",
        "printm()"
      ],
      "execution_count": 0,
      "outputs": [
        {
          "output_type": "stream",
          "text": [
            "Collecting gputil\n",
            "  Downloading https://files.pythonhosted.org/packages/ed/0e/5c61eedde9f6c87713e89d794f01e378cfd9565847d4576fa627d758c554/GPUtil-1.4.0.tar.gz\n",
            "Building wheels for collected packages: gputil\n",
            "  Building wheel for gputil (setup.py) ... \u001b[?25l\u001b[?25hdone\n",
            "  Created wheel for gputil: filename=GPUtil-1.4.0-cp36-none-any.whl size=7413 sha256=141b58f320606d12e6e1b5310c0c685b39d9afa7379f62b795db2a87ccd9c8f6\n",
            "  Stored in directory: /root/.cache/pip/wheels/3d/77/07/80562de4bb0786e5ea186911a2c831fdd0018bda69beab71fd\n",
            "Successfully built gputil\n",
            "Installing collected packages: gputil\n",
            "Successfully installed gputil-1.4.0\n",
            "Requirement already satisfied: psutil in /usr/local/lib/python3.6/dist-packages (5.4.8)\n",
            "Requirement already satisfied: humanize in /usr/local/lib/python3.6/dist-packages (0.5.1)\n",
            "Gen RAM Free: 24.3 GB  | Proc size: 3.3 GB\n",
            "GPU RAM Free: 15477MB | Used: 803MB | Util   5% | Total 16280MB\n"
          ],
          "name": "stdout"
        }
      ]
    },
    {
      "cell_type": "code",
      "metadata": {
        "id": "nSkXleG1CqWj",
        "colab_type": "code",
        "colab": {}
      },
      "source": [
        "class Encoder(nn.Module):\n",
        "\t\"\"\"\n",
        "    MLPs (multi-layered perceptrons or simple feed-forward networks)\n",
        "    where the provided activation parameter is used on every linear layer except\n",
        "    for the output layer where we use the provided output_activation parameter\n",
        "\t\"\"\"\n",
        "\tdef __init__(self, image_dim, label_dim, z_dim):\n",
        "\t\tsuper(Encoder, self).__init__()\n",
        "\t\t#setup image and label dimensions from the dataset\n",
        "\t\tself.image_dim = image_dim\n",
        "\t\tself.label_dim = label_dim\n",
        "\t\tself.z_dim = z_dim\n",
        "\t\t# setup the three linear transformations used\n",
        "\t\tself.fc1 = nn.Linear(self.image_dim+self.label_dim, 1000)\n",
        "\t\tself.fc2 = nn.Linear(1000, 1000)\n",
        "\t\tself.fc31 = nn.Linear(1000, z_dim)  # mu values\n",
        "\t\tself.fc32 = nn.Linear(1000, z_dim)  # sigma values\n",
        "\t\t# setup the non-linearities\n",
        "\t\tself.softplus = nn.Softplus()\n",
        "\n",
        "\tdef forward(self, xs, ys):\n",
        "\t\txs = xs.reshape(-1, self.image_dim)\n",
        "\t\t#now concatenate the image and label\n",
        "\t\tinputs = torch.cat((xs,ys), -1)\n",
        "\t\t# then compute the hidden units\n",
        "\t\thidden1 = self.softplus(self.fc1(inputs))\n",
        "\t\thidden2 = self.softplus(self.fc2(hidden1))\n",
        "\t\t# then return a mean vector and a (positive) square root covariance\n",
        "\t\t# each of size batch_size x z_dim\n",
        "\t\tz_loc = self.fc31(hidden2)\n",
        "\t\tz_scale = torch.exp(self.fc32(hidden2))\n",
        "\t\treturn z_loc, z_scale\n",
        "\n",
        "\n",
        "class Decoder(nn.Module):\n",
        "\tdef __init__(self, image_dim, label_dim, z_dim):\n",
        "\t\tsuper(Decoder, self).__init__()\n",
        "\t\t# setup the two linear transformations used\n",
        "\t\thidden_dim = 1000\n",
        "\t\tself.fc1 = nn.Linear(z_dim+label_dim, hidden_dim)\n",
        "\t\tself.fc2 = nn.Linear(hidden_dim, hidden_dim)\n",
        "\t\tself.fc3 = nn.Linear(hidden_dim, hidden_dim)\n",
        "\t\tself.fc4 = nn.Linear(hidden_dim, image_dim)\n",
        "\t\t# setup the non-linearities\n",
        "\t\tself.softplus = nn.Softplus()\n",
        "\t\tself.sigmoid = nn.Sigmoid()\n",
        "\n",
        "\tdef forward(self, zs, ys):\n",
        "\t\tinputs = torch.cat((zs, ys),-1)\n",
        "\t\t# then compute the hidden units\n",
        "\t\thidden1 = self.softplus(self.fc1(inputs))\n",
        "\t\thidden2 = self.softplus(self.fc2(hidden1))\n",
        "\t\thidden3 = self.softplus(self.fc3(hidden2))\n",
        "\t\t# return the parameter for the output Bernoulli\n",
        "\t\t# each is of size batch_size x 784\n",
        "\t\tloc_img = self.sigmoid(self.fc4(hidden3))\n",
        "\t\treturn loc_img"
      ],
      "execution_count": 0,
      "outputs": []
    },
    {
      "cell_type": "code",
      "metadata": {
        "id": "Yqj05Mv8CqWm",
        "colab_type": "code",
        "colab": {}
      },
      "source": [
        "class CVAE(nn.Module):\n",
        "\t\"\"\"\n",
        "\tThis class encapsulates the parameters (neural networks) and models & guides \n",
        "\tneeded to train a supervised variational auto-encoder \n",
        "\t\"\"\"\n",
        "\tdef __init__(self, config_enum=None, use_cuda=False, aux_loss_multiplier=None):\n",
        "    \n",
        "\t\tsuper(CVAE, self).__init__()\n",
        "\t\tself.image_dim = 64**2\n",
        "\t\tself.label_shape = np.array((1,3,6,40,32,32))\n",
        "\t\tself.label_names = np.array(('color', 'shape', 'scale', 'orientation', 'posX', 'posY'))\n",
        "\t\tself.label_dim = np.sum(self.label_shape)\n",
        "\t\tself.z_dim = 50                                           \n",
        "\t\tself.allow_broadcast = config_enum == 'parallel'\n",
        "\t\tself.use_cuda = use_cuda\n",
        "\t\tself.aux_loss_multiplier = aux_loss_multiplier\n",
        "\t    # define and instantiate the neural networks representing\n",
        "\t    # the paramters of various distributions in the model\n",
        "\t\tself.setup_networks()\n",
        "\n",
        "\tdef setup_networks(self):\n",
        "\t\t\"\"\"\n",
        "\t\tSetup and initialize Encoder and decoder units\n",
        "\t\t\"\"\"\n",
        "\t\tself.encoder = Encoder(self.image_dim, self.label_dim, self.z_dim)\n",
        "\t\tself.decoder = Decoder(self.image_dim, self.label_dim, self.z_dim)\n",
        "\t\t# using GPUs for faster training of the networks\n",
        "\t\tif self.use_cuda:\n",
        "\t\t    self.cuda()\n",
        "\n",
        "\tdef model(self, xs, ys):\n",
        "\t\tpyro.module(\"cvae\", self)\n",
        "\t\tbatch_size = xs.size(0)\n",
        "\t\toptions = dict(dtype=xs.dtype, device=xs.device)\n",
        "\t\twith pyro.plate(\"data\"):\n",
        "\t\t\tprior_loc = torch.zeros(batch_size, self.z_dim, **options)\n",
        "\t\t\tprior_scale = torch.ones(batch_size, self.z_dim, **options)\n",
        "\t\t\tzs = pyro.sample(\"z\", dist.Normal(prior_loc, prior_scale).to_event(1))\n",
        "\t\t\t# if the label y (which digit to write) is supervised, sample from the\n",
        "\t\t\t# constant prior, otherwise, observe the value (i.e. score it against the constant prior)\n",
        "\t\t\tloc = self.decoder.forward(zs, self.remap_y(ys))\n",
        "\t\t\tpyro.sample(\"x\", dist.Bernoulli(loc).to_event(1), obs=xs)\n",
        "\t\t  \t# return the loc so we can visualize it later\n",
        "\t\t\treturn loc\n",
        "\n",
        "\tdef guide(self, xs, ys):\n",
        "\t\twith pyro.plate(\"data\"):\n",
        "\t\t\t# sample (and score) the latent handwriting-style with the variational\n",
        "\t\t\t# distribution q(z|x) = normal(loc(x),scale(x))\n",
        "\t\t\tloc, scale = self.encoder.forward(xs, self.remap_y(ys))\n",
        "\t\t\tpyro.sample(\"z\", dist.Normal(loc, scale).to_event(1))\n",
        "\n",
        "\tdef remap_y(self, ys):\n",
        "\t\tnew_ys = []\n",
        "\t\toptions = dict(dtype=ys.dtype, device=ys.device)\n",
        "\t\tfor i, label_length in enumerate(self.label_shape):\n",
        "\t\t    prior = torch.ones(ys.size(0), label_length, **options) / (1.0 * label_length)\n",
        "\t\t    new_ys.append(pyro.sample(\"y_%s\" % self.label_names[i], dist.OneHotCategorical(prior), \n",
        "\t\t                           obs=torch.nn.functional.one_hot(ys[:,i].to(torch.int64), int(label_length))))\n",
        "\t\tnew_ys = torch.cat(new_ys, -1)\n",
        "\t\treturn new_ys.to(torch.float32)\n",
        "\n",
        "\tdef reconstruct_image(self, xs, ys):\n",
        "\t\t# backward\n",
        "\t\tsim_z_loc, sim_z_scale = self.encoder.forward(xs, self.remap_y(ys))\n",
        "\t\tzs = dist.Normal(sim_z_loc, sim_z_scale).to_event(1).sample()\n",
        "\t\t# forward\n",
        "\t\tloc = self.decoder.forward(zs, self.remap_y(ys))\n",
        "\t\treturn dist.Bernoulli(loc).to_event(1).sample()"
      ],
      "execution_count": 0,
      "outputs": []
    },
    {
      "cell_type": "code",
      "metadata": {
        "id": "1mmMe3D8CqWo",
        "colab_type": "code",
        "colab": {}
      },
      "source": [
        "def setup_data_loaders(train_x, test_x, train_y, test_y, batch_size=128, use_cuda=False):\n",
        "\ttrain_dset = torch.utils.data.TensorDataset(\n",
        "\t  torch.from_numpy(train_x.astype(np.float32)).reshape(-1, 4096),\n",
        "\t  torch.from_numpy(train_y.astype(np.float32))\n",
        "\t)\n",
        "\ttest_dset = torch.utils.data.TensorDataset(\n",
        "\t  torch.from_numpy(test_x.astype(np.float32)).reshape(-1, 4096),\n",
        "\t  torch.from_numpy(test_y.astype(np.float32))\n",
        "\t)    \n",
        "\tkwargs = {'num_workers': 1, 'pin_memory': use_cuda}\n",
        "\ttrain_loader = torch.utils.data.DataLoader(\n",
        "\t  dataset=train_dset, batch_size=batch_size, shuffle=False, **kwargs\n",
        "\t)\n",
        "\n",
        "\ttest_loader = torch.utils.data.DataLoader(\n",
        "\t  dataset=test_dset, batch_size=batch_size, shuffle=False, **kwargs\n",
        "\t)\n",
        "\treturn {\"train\":train_loader, \"test\":test_loader}"
      ],
      "execution_count": 0,
      "outputs": []
    },
    {
      "cell_type": "markdown",
      "metadata": {
        "id": "ygY6Zf_dyHuq",
        "colab_type": "text"
      },
      "source": [
        "# Load Dataset"
      ]
    },
    {
      "cell_type": "code",
      "metadata": {
        "id": "azMSBtsnCqWr",
        "colab_type": "code",
        "colab": {}
      },
      "source": [
        "dataset_zip = np.load(\n",
        "    '/content/gdrive/My Drive/dsprites_ndarray_co1sh3sc6or40x32y32_64x64.npz',\n",
        "    encoding = 'bytes',\n",
        "    allow_pickle=True\n",
        ")\n",
        "\n",
        "imgs = dataset_zip['imgs']\n",
        "labels = dataset_zip['latents_classes']\n",
        "label_sizes = dataset_zip['metadata'][()][b'latents_sizes']\n",
        "label_names = dataset_zip['metadata'][()][b'latents_names']\n",
        "\n",
        "# Sample imgs randomly\n",
        "indices_sampled = np.arange(imgs.shape[0])\n",
        "np.random.shuffle(indices_sampled)\n",
        "imgs_sampled = imgs[indices_sampled]\n",
        "labels_sampled = labels[indices_sampled]\n",
        "\n",
        "data_loaders = setup_data_loaders(\n",
        "    imgs_sampled[1000:],\n",
        "    imgs_sampled[:1000],\n",
        "    labels_sampled[1000:],\n",
        "    labels_sampled[:1000],\n",
        "    batch_size=256,\n",
        "    use_cuda=USE_CUDA\n",
        ")"
      ],
      "execution_count": 0,
      "outputs": []
    },
    {
      "cell_type": "code",
      "metadata": {
        "id": "Eamf-n9hCqWt",
        "colab_type": "code",
        "colab": {}
      },
      "source": [
        "def train(svi, train_loader, use_cuda=False):\n",
        "\t# initialize loss accumulator\n",
        "\tepoch_loss = 0.\n",
        "\t# do a training epoch over each mini-batch x returned\n",
        "\t# by the data loader\n",
        "\tfor xs,ys in train_loader:\n",
        "\t  # if on GPU put mini-batch into CUDA memory\n",
        "\t  if use_cuda:\n",
        "\t      xs = xs.cuda()\n",
        "\t      ys = ys.cuda()\n",
        "\t  # do ELBO gradient and accumulate loss\n",
        "\t  epoch_loss += svi.step(xs, ys)\n",
        "\t# return epoch loss\n",
        "\tnormalizer_train = len(train_loader.dataset)\n",
        "\ttotal_epoch_loss_train = epoch_loss / normalizer_train\n",
        "\treturn total_epoch_loss_train\n",
        "\n",
        "def evaluate(svi, test_loader, use_cuda=False):\n",
        "\t# initialize loss accumulator\n",
        "\ttest_loss = 0.\n",
        "\t# compute the loss over the entire test set\n",
        "\tfor xs, ys in test_loader:\n",
        "\t  # if on GPU put mini-batch into CUDA memory\n",
        "\t  if use_cuda:\n",
        "\t      xs = xs.cuda()\n",
        "\t      ys = ys.cuda()\n",
        "\t  # compute ELBO estimate and accumulate loss\n",
        "\t  test_loss += svi.evaluate_loss(xs, ys)\n",
        "\tnormalizer_test = len(test_loader.dataset)\n",
        "\ttotal_epoch_loss_test = test_loss / normalizer_test\n",
        "\treturn total_epoch_loss_test"
      ],
      "execution_count": 0,
      "outputs": []
    },
    {
      "cell_type": "code",
      "metadata": {
        "id": "LR-hW5UzCqWv",
        "colab_type": "code",
        "colab": {}
      },
      "source": [
        "# Run options\n",
        "LEARNING_RATE = 1.0e-3\n",
        "\n",
        "# Run only for a single iteration for testing\n",
        "NUM_EPOCHS = 10\n",
        "TEST_FREQUENCY = 5"
      ],
      "execution_count": 0,
      "outputs": []
    },
    {
      "cell_type": "markdown",
      "metadata": {
        "id": "tVSEjAmswFgE",
        "colab_type": "text"
      },
      "source": [
        " Training the model:"
      ]
    },
    {
      "cell_type": "code",
      "metadata": {
        "id": "hIuVKC2lCqWx",
        "colab_type": "code",
        "outputId": "5846aef7-5aa0-405e-ae14-8cc31fed2a8e",
        "colab": {
          "base_uri": "https://localhost:8080/",
          "height": 230
        }
      },
      "source": [
        "import warnings\n",
        "warnings.filterwarnings('ignore')\n",
        "\n",
        "# clear param store\n",
        "pyro.clear_param_store()\n",
        "\n",
        "# setup the VAE\n",
        "vae = CVAE(use_cuda=USE_CUDA)\n",
        "\n",
        "# setup the optimizer\n",
        "adam_args = {\"lr\": LEARNING_RATE}\n",
        "optimizer = Adam(adam_args)\n",
        "\n",
        "# setup the inference algorithm\n",
        "svi = SVI(vae.model, vae.guide, optimizer, loss=Trace_ELBO())\n",
        "\n",
        "train_elbo = []\n",
        "test_elbo = []\n",
        "# training loop\n",
        "\n",
        "VERBOSE = True\n",
        "pbar = tqdm(range(NUM_EPOCHS))\n",
        "for epoch in pbar:\n",
        "    total_epoch_loss_train = train(svi, data_loaders[\"train\"], use_cuda=USE_CUDA)\n",
        "    train_elbo.append(-total_epoch_loss_train)\n",
        "    if VERBOSE:\n",
        "        print(\"[epoch %03d]  average training loss: %.4f\" % (epoch, total_epoch_loss_train))\n",
        "    if epoch % TEST_FREQUENCY == 0:\n",
        "        # report test diagnostics\n",
        "        total_epoch_loss_test = evaluate(svi, data_loaders[\"test\"], use_cuda=USE_CUDA)\n",
        "        test_elbo.append(-total_epoch_loss_test)\n",
        "        if VERBOSE:\n",
        "            print(\"[epoch %03d] average test loss: %.4f\" % (epoch, total_epoch_loss_test))"
      ],
      "execution_count": 0,
      "outputs": [
        {
          "output_type": "stream",
          "text": [
            "\r  0%|          | 0/10 [00:00<?, ?it/s]"
          ],
          "name": "stderr"
        },
        {
          "output_type": "stream",
          "text": [
            "[epoch 000]  average training loss: 155.2700\n"
          ],
          "name": "stdout"
        },
        {
          "output_type": "stream",
          "text": [
            "\r 10%|█         | 1/10 [01:22<12:25, 82.88s/it]"
          ],
          "name": "stderr"
        },
        {
          "output_type": "stream",
          "text": [
            "[epoch 000] average test loss: 101.2704\n"
          ],
          "name": "stdout"
        },
        {
          "output_type": "stream",
          "text": [
            "\r 20%|██        | 2/10 [02:44<11:00, 82.59s/it]"
          ],
          "name": "stderr"
        },
        {
          "output_type": "stream",
          "text": [
            "[epoch 001]  average training loss: 85.7613\n"
          ],
          "name": "stdout"
        },
        {
          "output_type": "stream",
          "text": [
            "\r 30%|███       | 3/10 [04:07<09:37, 82.57s/it]"
          ],
          "name": "stderr"
        },
        {
          "output_type": "stream",
          "text": [
            "[epoch 002]  average training loss: 62.6980\n"
          ],
          "name": "stdout"
        },
        {
          "output_type": "stream",
          "text": [
            "\r 40%|████      | 4/10 [05:30<08:16, 82.79s/it]"
          ],
          "name": "stderr"
        },
        {
          "output_type": "stream",
          "text": [
            "[epoch 003]  average training loss: 41.5941\n"
          ],
          "name": "stdout"
        },
        {
          "output_type": "stream",
          "text": [
            "\r 50%|█████     | 5/10 [06:53<06:54, 82.96s/it]"
          ],
          "name": "stderr"
        },
        {
          "output_type": "stream",
          "text": [
            "[epoch 004]  average training loss: 24.9510\n",
            "[epoch 005]  average training loss: 20.5100\n"
          ],
          "name": "stdout"
        },
        {
          "output_type": "stream",
          "text": [
            "\r 60%|██████    | 6/10 [08:17<05:32, 83.12s/it]"
          ],
          "name": "stderr"
        },
        {
          "output_type": "stream",
          "text": [
            "[epoch 005] average test loss: 19.7846\n"
          ],
          "name": "stdout"
        },
        {
          "output_type": "stream",
          "text": [
            "\r 70%|███████   | 7/10 [09:40<04:09, 83.17s/it]"
          ],
          "name": "stderr"
        },
        {
          "output_type": "stream",
          "text": [
            "[epoch 006]  average training loss: 18.2591\n"
          ],
          "name": "stdout"
        },
        {
          "output_type": "stream",
          "text": [
            "\r 80%|████████  | 8/10 [11:03<02:46, 83.19s/it]"
          ],
          "name": "stderr"
        },
        {
          "output_type": "stream",
          "text": [
            "[epoch 007]  average training loss: 16.8973\n"
          ],
          "name": "stdout"
        },
        {
          "output_type": "stream",
          "text": [
            "\r 90%|█████████ | 9/10 [12:26<01:22, 82.91s/it]"
          ],
          "name": "stderr"
        },
        {
          "output_type": "stream",
          "text": [
            "[epoch 008]  average training loss: 15.9099\n"
          ],
          "name": "stdout"
        },
        {
          "output_type": "stream",
          "text": [
            "100%|██████████| 10/10 [13:48<00:00, 82.81s/it]"
          ],
          "name": "stderr"
        },
        {
          "output_type": "stream",
          "text": [
            "[epoch 009]  average training loss: 15.0764\n"
          ],
          "name": "stdout"
        },
        {
          "output_type": "stream",
          "text": [
            "\n"
          ],
          "name": "stderr"
        }
      ]
    },
    {
      "cell_type": "markdown",
      "metadata": {
        "id": "5_K4mKeSwQoZ",
        "colab_type": "text"
      },
      "source": [
        "Save the results so that you can avoid retraining again. Once the following step is executed, we dont need to retrain the model. "
      ]
    },
    {
      "cell_type": "code",
      "metadata": {
        "id": "puMbph4idkYg",
        "colab_type": "code",
        "outputId": "31d594bc-5e89-42c4-deb6-95bf1f7bdff3",
        "colab": {
          "base_uri": "https://localhost:8080/",
          "height": 34
        }
      },
      "source": [
        "#################################\n",
        "### FOR SAVING AND LOADING MODEL\n",
        "################################\n",
        "# clear param store\n",
        "\n",
        "pyro.clear_param_store()\n",
        "\n",
        "network_path = \"/content/gdrive/My Drive/causalvae/trained_model.save\"\n",
        "torch.save(vae.state_dict(), network_path)"
      ],
      "execution_count": 0,
      "outputs": [
        {
          "output_type": "execute_result",
          "data": {
            "text/plain": [
              "<All keys matched successfully>"
            ]
          },
          "metadata": {
            "tags": []
          },
          "execution_count": 15
        }
      ]
    },
    {
      "cell_type": "code",
      "metadata": {
        "id": "f40jxGui6s3K",
        "colab_type": "code",
        "outputId": "bdb79c5b-9008-45bb-9954-e1d866f88e91",
        "colab": {
          "base_uri": "https://localhost:8080/",
          "height": 32
        }
      },
      "source": [
        "network_path = \"/content/gdrive/My Drive/causalvae/trained_model.save\"\n",
        "\n",
        "vae=CVAE(use_cuda=USE_CUDA)\n",
        "vae.load_state_dict(torch.load(network_path))"
      ],
      "execution_count": 0,
      "outputs": [
        {
          "output_type": "execute_result",
          "data": {
            "text/plain": [
              "<All keys matched successfully>"
            ]
          },
          "metadata": {
            "tags": []
          },
          "execution_count": 14
        }
      ]
    },
    {
      "cell_type": "markdown",
      "metadata": {
        "id": "aFnfYMd3CqW0",
        "colab_type": "text"
      },
      "source": [
        "## Visualizing the reconstruction accuracy of VAE (Without interventions)"
      ]
    },
    {
      "cell_type": "code",
      "metadata": {
        "id": "nIt0T2eUCqW0",
        "colab_type": "code",
        "colab": {}
      },
      "source": [
        "import warnings\n",
        "warnings.filterwarnings(\"ignore\")\n",
        "\n",
        "data_iter = iter(data_loaders[\"train\"])\n",
        "xs, ys = next(data_iter)\n",
        "\n",
        "if USE_CUDA:\n",
        "    xs = xs.cuda()\n",
        "    ys = ys.cuda()\n",
        "rs = vae.reconstruct_image(xs, ys)\n",
        "if USE_CUDA:\n",
        "    xs = xs.cpu()\n",
        "    rs = rs.cpu()\n",
        "originals = xs.numpy().reshape(-1, 64,64)\n",
        "recons = rs.reshape(-1,64,64)"
      ],
      "execution_count": 0,
      "outputs": []
    },
    {
      "cell_type": "code",
      "metadata": {
        "id": "1YBT2lo7CqW2",
        "colab_type": "code",
        "outputId": "5a90d61e-64b1-4ee2-950b-dabf21c27033",
        "colab": {
          "base_uri": "https://localhost:8080/",
          "height": 231,
          "referenced_widgets": [
            "4969c4ddec084e04b6247ae51baee513",
            "2cb47361bc6e4cbb9552462804f0b230",
            "75ed4cf9665b40639cf146dad39d24d2",
            "2770f7492812468fb56c4fa037423493",
            "7efb2cf9c3bf4cd78ae2e2c58ec406b0",
            "c6797637e99c4266b04df597f8de7e49",
            "a7e06293fa014fb287ff75701f8a137d"
          ]
        }
      },
      "source": [
        "# [ 0,  2,  1, 34,  4, 24]\n",
        "def recon_check(original, recon):\n",
        "  fig = plt.figure()\n",
        "  ax0 = fig.add_subplot(121)\n",
        "  plt.imshow(original, cmap='Greys_r',  interpolation='nearest')\n",
        "  plt.axis('off')\n",
        "  ax1 = fig.add_subplot(122)\n",
        "  plt.imshow(recon , cmap='Greys_r', interpolation='nearest')\n",
        "  plt.axis('off')\n",
        "  \n",
        "def f(x):\n",
        "    fig = plt.figure()\n",
        "    ax0 = fig.add_subplot(121)\n",
        "    plt.imshow(originals[x], cmap='Greys_r',  interpolation='nearest')\n",
        "    plt.axis('off')\n",
        "    ax1 = fig.add_subplot(122)\n",
        "    plt.imshow(recons[x], cmap='Greys_r',  interpolation='nearest')\n",
        "    plt.axis('off')\n",
        "    \n",
        "interact(f, x=widgets.IntSlider(min=0, max=xs.shape[0], step=1, value=0))"
      ],
      "execution_count": 0,
      "outputs": [
        {
          "output_type": "display_data",
          "data": {
            "application/vnd.jupyter.widget-view+json": {
              "model_id": "4969c4ddec084e04b6247ae51baee513",
              "version_minor": 0,
              "version_major": 2
            },
            "text/plain": [
              "interactive(children=(IntSlider(value=0, description='x', max=256), Output()), _dom_classes=('widget-interact'…"
            ]
          },
          "metadata": {
            "tags": []
          }
        },
        {
          "output_type": "execute_result",
          "data": {
            "text/plain": [
              "<function __main__.f>"
            ]
          },
          "metadata": {
            "tags": []
          },
          "execution_count": 17
        }
      ]
    },
    {
      "cell_type": "code",
      "metadata": {
        "id": "EVCzRnuIzNpL",
        "colab_type": "code",
        "outputId": "e30118c8-5502-4ab9-cdaa-5047c2218d71",
        "colab": {
          "base_uri": "https://localhost:8080/",
          "height": 423,
          "referenced_widgets": [
            "ad31791351414fa484bec0c90b37b258",
            "32aa5d81e13f4896a4dc9792da58e8d9",
            "335ae76e6a1248f680b4770530326a12",
            "ee1d47d05bde48f5a05a29852fdfff04",
            "8752102e922e4b56a0e450d6ec13cae9",
            "e5f357a9da1a42aab362ac457ac200bd",
            "ade3f02748ac4d1c9fe6b4c183835bdb",
            "e911efd3502443cd93b82a0b2e1344a5",
            "936467ff769c4065bd9d492b920dedce",
            "944e3b4278f14bbdb0f72b473a86f70b",
            "0fa3760328bd4250bcfd5962df7039db",
            "875043ad67bd48b998be9a3b5fc1b49c",
            "3acfd91b731141899024b9335652ea05",
            "504ece69aa0f48a9ab98dbfb3be3b064",
            "c81294b72aba49c5b9bc73e094db3990",
            "bbc7ac94519249c486ace8f9dae2c056",
            "d0966162bba346659ad9e3b3461fe0ab",
            "97a41b4a71d44a8a9095065530b56293",
            "acd7693b0d224a6b8658b1ca3bb48a62"
          ]
        }
      },
      "source": [
        "y_names = ['shape', 'scale', 'orientation', 'posX', 'posY']\n",
        "y_shapes = np.array((3,6,40,32,32))\n",
        "img_dict = {}\n",
        "\n",
        "for i, img in enumerate(imgs_sampled):\n",
        "     img_dict[tuple(labels_sampled[i])] = img\n",
        "\n",
        "def find_in_dataset(shape, scale, orient, posX, posY):\n",
        "  fig = plt.figure()\n",
        "  img = img_dict[(0, shape, scale, orient, posX, posY)]\n",
        "  plt.imshow(img.reshape(64,64), cmap='Greys_r', interpolation='nearest')\n",
        "  plt.axis('off')\n",
        "\n",
        "interact(find_in_dataset, \n",
        "         shape=widgets.IntSlider(min=0, max=2, step=1, value=0),\n",
        "         scale=widgets.IntSlider(min=0, max=5, step=1, value=0),\n",
        "         orient=widgets.IntSlider(min=0, max=39, step=1, value=0),\n",
        "         posX=widgets.IntSlider(min=0, max=31, step=1, value=0),\n",
        "         posY=widgets.IntSlider(min=0, max=31, step=1, value=0))"
      ],
      "execution_count": 0,
      "outputs": [
        {
          "output_type": "display_data",
          "data": {
            "application/vnd.jupyter.widget-view+json": {
              "model_id": "ad31791351414fa484bec0c90b37b258",
              "version_minor": 0,
              "version_major": 2
            },
            "text/plain": [
              "interactive(children=(IntSlider(value=0, description='shape', max=2), IntSlider(value=0, description='scale', …"
            ]
          },
          "metadata": {
            "tags": []
          }
        },
        {
          "output_type": "execute_result",
          "data": {
            "text/plain": [
              "<function __main__.find_in_dataset>"
            ]
          },
          "metadata": {
            "tags": []
          },
          "execution_count": 18
        }
      ]
    },
    {
      "cell_type": "code",
      "metadata": {
        "id": "1EueLb0OzSDm",
        "colab_type": "code",
        "outputId": "3c4d241c-c62c-42e5-a47c-1b03cd12ef00",
        "colab": {
          "base_uri": "https://localhost:8080/",
          "height": 277
        }
      },
      "source": [
        "def get_specific_data(args=dict(), cuda=False):\n",
        "    '''\n",
        "    use this function to get examples of data with specific class labels\n",
        "    inputs: \n",
        "        args - dictionary whose keys can include {shape, scale, orientation,\n",
        "                posX, posY} and values can include any integers less than the \n",
        "                corresponding size of that label dimension\n",
        "        cuda - bool to indicate whether the output should be placed on GPU\n",
        "    '''\n",
        "    names_dict = {'shape': 1, 'scale': 2, 'orientation': 3, 'posX': 4, 'posY': 5}\n",
        "    selected_ind = np.ones(imgs.shape[0], dtype=bool)\n",
        "    for k,v in args.items():\n",
        "        col_id = names_dict[k]\n",
        "        selected_ind = np.bitwise_and(selected_ind, labels[:, col_id] == v)\n",
        "    ind = np.random.choice(np.arange(imgs.shape[0])[selected_ind])\n",
        "    x = torch.from_numpy(imgs[ind].reshape(1,64**2).astype(np.float32))\n",
        "    y = torch.from_numpy(labels[ind].reshape(1,6).astype(np.float32))\n",
        "    if not cuda:\n",
        "        return x,y\n",
        "    x = x.cuda()\n",
        "    y = y.cuda()\n",
        "    return x,y\n",
        "\n",
        "def plot_image(x):\n",
        "    \"\"\"\n",
        "    helper to plot dSprites images\n",
        "    \"\"\"\n",
        "    x = x.cpu()\n",
        "    plt.figure()\n",
        "    plt.imshow(x.reshape(64,64), interpolation='nearest', cmap='Greys_r')\n",
        "    plt.axis('off')\n",
        "\n",
        "def see_specific_image(args=dict(), verbose=True):\n",
        "    '''\n",
        "    use this function to get examples of data with specific class labels\n",
        "    inputs: \n",
        "        args - dictionary whose keys can include {shape, scale, orientation,\n",
        "                posX, posY} and values can include any integers less than the \n",
        "                corresponding size of that label dimension\n",
        "        verbose - bool to indicate whether the full class label should be written \n",
        "                    as the title of the plot\n",
        "    '''\n",
        "    x,y = get_specific_data(args, cuda=False)\n",
        "    plot_image(x)\n",
        "    if verbose:\n",
        "        string = ''\n",
        "        for i, s in enumerate(['Shape', 'Scale', 'Orientation', 'PosX', 'PosY']):\n",
        "            string += '%s: %d, ' % (s, int(y[0][i+1]))\n",
        "            if i == 2:\n",
        "                string = string[:-2] + '\\n'\n",
        "        plt.title(string[:-2], fontsize=12)\n",
        "        \n",
        "def compare_reconstruction(original, recon):\n",
        "    \"\"\"\n",
        "    compare two images side by side\n",
        "    inputs:\n",
        "        original - array for original image\n",
        "        recon - array for recon image\n",
        "    \"\"\"\n",
        "    fig = plt.figure()\n",
        "    ax0 = fig.add_subplot(121)\n",
        "    plt.imshow(original.cpu().reshape(64,64), cmap='Greys_r',  interpolation='nearest')\n",
        "    plt.axis('off')\n",
        "    plt.title('original')\n",
        "    ax1 = fig.add_subplot(122)\n",
        "    plt.imshow(recon.cpu().reshape(64,64), cmap='Greys_r',  interpolation='nearest')\n",
        "    plt.axis('off')\n",
        "    plt.title('reconstruction')\n",
        "    \n",
        "def compare_to_density(original, recons):\n",
        "    \"\"\"\n",
        "    compare two images side by side\n",
        "    inputs:\n",
        "        original - array for original image\n",
        "        recon - array of multiple recon images\n",
        "    \"\"\"\n",
        "    fig = plt.figure()\n",
        "    ax0 = fig.add_subplot(121)\n",
        "    plt.imshow(original.cpu().reshape(64,64), cmap='Greys_r',  interpolation='nearest')\n",
        "    plt.axis('off')\n",
        "    plt.title('original')\n",
        "    ax1 = fig.add_subplot(122)\n",
        "    plt.imshow(torch.mean(recons.cpu(), 0).reshape(64,64), cmap='Greys_r',  interpolation='nearest')\n",
        "    plt.axis('off')\n",
        "    plt.title('reconstructions')\n",
        "\n",
        "        \n",
        "see_specific_image()"
      ],
      "execution_count": 0,
      "outputs": [
        {
          "output_type": "display_data",
          "data": {
            "image/png": "[encoded data removed]",
            "text/plain": [
              "<Figure size 432x288 with 1 Axes>"
            ]
          },
          "metadata": {
            "tags": []
          }
        }
      ]
    },
    {
      "cell_type": "code",
      "metadata": {
        "id": "Fd3AIetSBeln",
        "colab_type": "code",
        "outputId": "b9f2329c-f166-48d8-e339-baff6a4023f8",
        "colab": {
          "base_uri": "https://localhost:8080/",
          "height": 277
        }
      },
      "source": [
        "see_specific_image()"
      ],
      "execution_count": 0,
      "outputs": [
        {
          "output_type": "display_data",
          "data": {
            "image/png": "[encoded data removed]",
            "text/plain": [
              "<Figure size 432x288 with 1 Axes>"
            ]
          },
          "metadata": {
            "tags": []
          }
        }
      ]
    },
    {
      "cell_type": "code",
      "metadata": {
        "id": "OkB6V4LjESxV",
        "colab_type": "code",
        "outputId": "861dc58b-924a-47e5-8955-d56b551bc49f",
        "colab": {
          "base_uri": "https://localhost:8080/",
          "height": 32
        }
      },
      "source": [
        "label_dims = vae.label_shape\n",
        "label_dim_offsets = np.cumsum(label_dims)\n",
        "label_dim_offsets"
      ],
      "execution_count": 0,
      "outputs": [
        {
          "output_type": "execute_result",
          "data": {
            "text/plain": [
              "array([  1,   4,  10,  50,  82, 114])"
            ]
          },
          "metadata": {
            "tags": []
          },
          "execution_count": 21
        }
      ]
    },
    {
      "cell_type": "markdown",
      "metadata": {
        "id": "c7JBn--oww3g",
        "colab_type": "text"
      },
      "source": [
        "# Structural causal Model of VAE"
      ]
    },
    {
      "cell_type": "code",
      "metadata": {
        "id": "VXhaIdcBEHnS",
        "colab_type": "code",
        "colab": {}
      },
      "source": [
        "class SCM():\n",
        "    \"\"\"\n",
        "    Structural causal model\n",
        "    \n",
        "    args: \n",
        "      vae: instance of vae\n",
        "      mu: loc of q(z|x) given by the vae encoder\n",
        "      sigma: scale of q(z|x) given by the vae encoder\n",
        "    \n",
        "    \"\"\"\n",
        "    def __init__(self, vae, mu, sigma):\n",
        "        \"\"\"\n",
        "        Constructor\n",
        "        \n",
        "        Intializes :\n",
        "          image dimensions - 4096(64*64), \n",
        "          z dimensions: size of the tensor representing the latent random variable z, \n",
        "          label dimensions: 114 labels y that correspond to an image(one hot encoded)\n",
        "          f(x) = p(x|y,z)\n",
        "          Noise variables in the model N_#\n",
        "        \"\"\"\n",
        "        self.vae = vae\n",
        "        self.image_dim = vae.image_dim\n",
        "        self.z_dim = vae.z_dim\n",
        "        # these are used for f_X\n",
        "        self.label_dims = vae.label_shape\n",
        "        \"\"\"\n",
        "        def f_X(Y, Z, N):\n",
        "            \n",
        "            Generating one hots for the factors\n",
        "             \n",
        "            zs = Z.cuda()\n",
        "            # convert the labels to one hot\n",
        "            ys = [torch.tensor([0])]\n",
        "            ys.append(torch.nn.functional.one_hot(torch.round(Y[0]).to(torch.long), int(self.label_dims[1])))\n",
        "            ys.append(torch.nn.functional.one_hot(torch.round(Y[1]).to(torch.long), int(self.label_dims[2])))\n",
        "            ys.append(torch.nn.functional.one_hot(torch.round(Y[2]).to(torch.long), int(self.label_dims[3])))\n",
        "            ys.append(torch.nn.functional.one_hot(torch.round(Y[3]).to(torch.long), int(self.label_dims[4])))\n",
        "            ys.append(torch.nn.functional.one_hot(torch.round(Y[4]).to(torch.long), int(self.label_dims[5])))\n",
        "            ys = torch.cat(ys).to(torch.float32).reshape(1,-1).cuda()\n",
        "            p = vae.decoder.forward(zs, ys)\n",
        "            return (N < p.cpu()).type(torch.float)\n",
        "            \"\"\"\n",
        "        \n",
        "        def f_X(Y, Z):\n",
        "            \n",
        "           # Generating one hots for the factors\n",
        "             \n",
        "            zs = Z.cuda()\n",
        "            # convert the labels to one hot\n",
        "            ys = [torch.tensor([0])]\n",
        "            ys.append(torch.nn.functional.one_hot(torch.round(Y[0]).to(torch.long), int(self.label_dims[1])))\n",
        "            ys.append(torch.nn.functional.one_hot(torch.round(Y[1]).to(torch.long), int(self.label_dims[2])))\n",
        "            ys.append(torch.nn.functional.one_hot(torch.round(Y[2]).to(torch.long), int(self.label_dims[3])))\n",
        "            ys.append(torch.nn.functional.one_hot(torch.round(Y[3]).to(torch.long), int(self.label_dims[4])))\n",
        "            ys.append(torch.nn.functional.one_hot(torch.round(Y[4]).to(torch.long), int(self.label_dims[5])))\n",
        "            ys = torch.cat(ys).to(torch.float32).reshape(1,-1).cuda()\n",
        "            p = vae.decoder.forward(zs, ys)\n",
        "            # we would want the probability of X=1 being p for each X (shape = 4096) #dist.Categorical\n",
        "            return (pyro.sample(\"Nx\",dist.Bernoulli(p.cpu()).to_event(1))).type(torch.float)\n",
        "            #return N\n",
        "\n",
        "        def f_Y(N):\n",
        "            \"\"\"\n",
        "            Gumbel distribution - to model the distribution of the maximum of a number of samples\n",
        "            m = Gumbel(torch.tensor([1.0]), torch.tensor([2.0])).sample() # sample from Gumbel distribution with loc=1, scale=2\n",
        "            tensor([ 1.0124])\n",
        "            \n",
        "            https://pytorch.org/docs/stable/_modules/torch/distributions/gumbel.html\n",
        "            \"\"\"\n",
        "#             m = torch.distributions.gumbel.Gumbel(torch.zeros(N.size(0)), torch.ones(N.size(0)))\n",
        "            beta = 12\n",
        "            indices = torch.tensor(np.arange(N.size(0))).to(torch.float32)\n",
        "            smax = nn.functional.softmax(beta*N)\n",
        "            argmax_ind = torch.sum(smax*indices)\n",
        "            return argmax_ind\n",
        "        \n",
        "        def f_Z(N):\n",
        "            \"\"\"\n",
        "            Z ~ Normal(mu, sigma) \n",
        "            \"\"\"\n",
        "            return N * sigma + mu\n",
        "        \n",
        "        def model(noise): \n",
        "            \"\"\"\n",
        "            The model corresponds to a generative process\n",
        "            \n",
        "            args: noise variables\n",
        "            return: X(image), Y(labels), Z(latents) \n",
        "            \"\"\"\n",
        "            #N_X = pyro.sample( 'N_X', noise['N_X'].to_event(1) )\n",
        "            # denoted using the index in the sequence \n",
        "            # that they are stored in as vae.label_names:\n",
        "            # ['shape', 'scale', 'orientation', 'posX', 'posY']\n",
        "            N_Y_1 = pyro.sample( 'N_Y_1', noise['N_Y_1'].to_event(1) )\n",
        "            N_Y_2 = pyro.sample( 'N_Y_2', noise['N_Y_2'].to_event(1) )\n",
        "            N_Y_3 = pyro.sample( 'N_Y_3', noise['N_Y_3'].to_event(1) )\n",
        "            N_Y_4 = pyro.sample( 'N_Y_4', noise['N_Y_4'].to_event(1) )\n",
        "            N_Y_5 = pyro.sample( 'N_Y_5', noise['N_Y_5'].to_event(1) )\n",
        "            \n",
        "            # Z ~ Normal(Nx_mu, Nx_sigma)              \n",
        "            N_Z = pyro.sample( 'N_Z', noise['N_Z'].to_event(1) )\n",
        "            Z = pyro.sample('Z', dist.Normal( f_Z( N_Z ), 1e-1).to_event(1) )\n",
        "            \n",
        "            # Y ~ Gumbel max of Ny             \n",
        "#             Y_1_mu = f_Y(N_Y_1)\n",
        "#             Y_2_mu = f_Y(N_Y_2)\n",
        "#             Y_3_mu = f_Y(N_Y_3)\n",
        "#             Y_4_mu = f_Y(N_Y_4)\n",
        "#             Y_5_mu = f_Y(N_Y_5)\n",
        "       \n",
        "            Y_1 = pyro.sample('Y_1', dist.Normal( f_Y(N_Y_1), 1e-2) )\n",
        "            Y_2 = pyro.sample('Y_2', dist.Normal( f_Y(N_Y_2), 1e-1) )\n",
        "            Y_3 = pyro.sample('Y_3', dist.Normal( f_Y(N_Y_3), 1e-1) )\n",
        "            Y_4 = pyro.sample('Y_4', dist.Normal( f_Y(N_Y_4), 1e-1) )\n",
        "            Y_5 = pyro.sample('Y_5', dist.Normal( f_Y(N_Y_5), 1e-1) )\n",
        "            \n",
        "#             Y_mu = (Y_1_mu, Y_2_mu, Y_3_mu, Y_4_mu, Y_5_mu)\n",
        "            \n",
        "            # X ~ p(x|y,z) = bernoulli(loc(y,z))             \n",
        "            #X = pyro.sample('X', dist.Normal( f_X( (Y_1, Y_2, Y_3,Y_4,Y_5), Z, N_X ), 1e-2).to_event(1))\n",
        "            \n",
        "            # change this line\n",
        "            X = pyro.sample('X',dist.Delta(f_X( (Y_1, Y_2, Y_3,Y_4,Y_5), Z)).to_event(1))\n",
        "            \n",
        "            # return noise and variables\n",
        "            noise_samples = (N_Y_1, N_Y_2, N_Y_3, N_Y_4, N_Y_5), N_Z\n",
        "            #noise_samples = N_X, (N_Y_1, N_Y_2, N_Y_3, N_Y_4, N_Y_5), N_Z\n",
        "            variable_samples = X, (Y_1, Y_2, Y_3, Y_4, Y_5), Z\n",
        "            return variable_samples, noise_samples\n",
        "        \n",
        "        self.model = model\n",
        "        #Initialize all noise variables in the model         \n",
        "        self.init_noise = {\n",
        "            #'N_X'   : dist.Uniform(torch.zeros(vae.image_dim), torch.ones(vae.image_dim)),\n",
        "            'N_Z'   : dist.Normal(torch.zeros(vae.z_dim), torch.ones(vae.z_dim)),\n",
        "            'N_Y_1' : dist.Uniform(torch.zeros(self.label_dims[1]),torch.ones(self.label_dims[1])),\n",
        "            'N_Y_2' : dist.Uniform(torch.zeros(self.label_dims[2]),torch.ones(self.label_dims[2])),\n",
        "            'N_Y_3' : dist.Uniform(torch.zeros(self.label_dims[3]),torch.ones(self.label_dims[3])),\n",
        "            'N_Y_4' : dist.Uniform(torch.zeros(self.label_dims[4]),torch.ones(self.label_dims[4])),\n",
        "            'N_Y_5' : dist.Uniform(torch.zeros(self.label_dims[5]),torch.ones(self.label_dims[5]))            \n",
        "        }\n",
        "        \n",
        "    def update_noise_svi(self, obs_data, intervened_model=None):\n",
        "        \"\"\"\n",
        "        Use svi to find out the mu, sigma of the distributionsfor the \n",
        "        condition outlined in obs_data\n",
        "        \"\"\"\n",
        "        \n",
        "        def guide(noise):\n",
        "            \"\"\"\n",
        "            The guide serves as an approximation to the posterior p(z|x). \n",
        "            The guide provides a valid joint probability density over all the \n",
        "            latent random variables in the model.\n",
        "            \n",
        "            https://pyro.ai/examples/svi_part_i.html\n",
        "            \"\"\"\n",
        "            # create params with constraints\n",
        "            mu = {\n",
        "                #'N_X': pyro.param('N_X_mu', 0.5*torch.ones(self.image_dim),constraint = constraints.interval(0., 1.)),\n",
        "                'N_Z': pyro.param('N_Z_mu', torch.zeros(self.z_dim),constraint = constraints.interval(-3., 3.)),\n",
        "                'N_Y_1': pyro.param('N_Y_1_mu', 0.5*torch.ones(self.label_dims[1]),constraint = constraints.interval(0., 1.)),\n",
        "                'N_Y_2': pyro.param('N_Y_2_mu', 0.5*torch.ones(self.label_dims[2]),constraint = constraints.interval(0., 1.)),\n",
        "                'N_Y_3': pyro.param('N_Y_3_mu', 0.5*torch.ones(self.label_dims[3]),constraint = constraints.interval(0., 1.)),\n",
        "                'N_Y_4': pyro.param('N_Y_4_mu', 0.5*torch.ones(self.label_dims[4]),constraint = constraints.interval(0., 1.)),\n",
        "                'N_Y_5': pyro.param('N_Y_5_mu', 0.5*torch.ones(self.label_dims[5]),constraint = constraints.interval(0., 1.))\n",
        "                }\n",
        "                # this is the intial mean of all the N_X, N_Y & N_Z distributions, based on the prior distribution we have. This will be updated\n",
        "                # in the model \n",
        "            sigma = {\n",
        "                #'N_X': pyro.param('N_X_sigma', 0.1*torch.ones(self.image_dim),constraint = constraints.interval(0.0001, 0.5)),\n",
        "                'N_Z': pyro.param('N_Z_sigma', torch.ones(self.z_dim),constraint = constraints.interval(0.0001, 3.)),\n",
        "                'N_Y_1': pyro.param('N_Y_1_sigma', 0.1*torch.ones(self.label_dims[1]),constraint = constraints.interval(0.0001, 0.5)),\n",
        "                'N_Y_2': pyro.param('N_Y_2_sigma', 0.1*torch.ones(self.label_dims[2]),constraint = constraints.interval(0.0001, 0.5)),\n",
        "                'N_Y_3': pyro.param('N_Y_3_sigma', 0.1*torch.ones(self.label_dims[3]),constraint = constraints.interval(0.0001, 0.5)),\n",
        "                'N_Y_4': pyro.param('N_Y_4_sigma', 0.1*torch.ones(self.label_dims[4]),constraint = constraints.interval(0.0001, 0.5)),\n",
        "                'N_Y_5': pyro.param('N_Y_5_sigma', 0.1*torch.ones(self.label_dims[5]),constraint = constraints.interval(0.0001, 0.5))\n",
        "                }\n",
        "            for noise_term in noise.keys():\n",
        "                pyro.sample(noise_term, dist.Normal(mu[noise_term], sigma[noise_term]).to_event(1))\n",
        "        \n",
        "        # Condition the model\n",
        "        if intervened_model is not None:\n",
        "          obs_model = pyro.condition(intervened_model, obs_data)\n",
        "        else:\n",
        "          obs_model = pyro.condition(self.model, obs_data)\n",
        "          \n",
        "        pyro.clear_param_store()\n",
        "\n",
        "        # Once we’ve specified a guide, we’re ready to proceed to inference. \n",
        "        # Now, this an optimization problem where each iteration of training takes  \n",
        "        # a step that moves the guide closer to the exact posterior \n",
        "        \n",
        "        # https://arxiv.org/pdf/1601.00670.pdf\n",
        "        svi = SVI(\n",
        "            model= obs_model,\n",
        "            guide= guide,\n",
        "            optim= SGD({\"lr\": 1e-5, 'momentum': 0.1}),\n",
        "            loss=Trace_ELBO(retain_graph=True)\n",
        "        )\n",
        "        \n",
        "        num_steps = 1500\n",
        "        samples = defaultdict(list)\n",
        "        for t in range(num_steps):\n",
        "            loss = svi.step(self.init_noise)\n",
        "#             if t % 100 == 0:\n",
        "#                 print(\"step %d: loss of %.2f\" % (t, loss))\n",
        "            for noise in self.init_noise.keys():\n",
        "                mu = '{}_mu'.format(noise)\n",
        "                sigma = '{}_sigma'.format(noise)\n",
        "                samples[mu].append(pyro.param(mu).detach().numpy())\n",
        "                samples[sigma].append(pyro.param(sigma).detach().numpy())\n",
        "        means = {k: torch.tensor(np.array(v).mean(axis=0)) for k, v in samples.items()}\n",
        "        \n",
        "        # update the inferred noise\n",
        "        updated_noise = {\n",
        "            #'N_X'  : dist.Normal(means['N_X_mu'], means['N_X_sigma']),\n",
        "            'N_Z'  : dist.Normal(means['N_Z_mu'], means['N_Z_sigma']),\n",
        "            'N_Y_1': dist.Normal(means['N_Y_1_mu'], means['N_Y_1_sigma']),\n",
        "            'N_Y_2': dist.Normal(means['N_Y_2_mu'], means['N_Y_2_sigma']),\n",
        "            'N_Y_3': dist.Normal(means['N_Y_3_mu'], means['N_Y_3_sigma']),\n",
        "            'N_Y_4': dist.Normal(means['N_Y_4_mu'], means['N_Y_4_sigma']),\n",
        "            'N_Y_5': dist.Normal(means['N_Y_5_mu'], means['N_Y_5_sigma']),\n",
        "        }\n",
        "        return updated_noise\n",
        "        \n",
        "    def __call__(self):\n",
        "        return self.model(self.init_noise)"
      ],
      "execution_count": 0,
      "outputs": []
    },
    {
      "cell_type": "markdown",
      "metadata": {
        "id": "lk7vAe8byP5G",
        "colab_type": "text"
      },
      "source": [
        "## Sanity check: 1\n",
        "### Making sure VAE works"
      ]
    },
    {
      "cell_type": "code",
      "metadata": {
        "id": "TDI4enwfEPCY",
        "colab_type": "code",
        "outputId": "cfdf3921-f45a-4a6b-caa8-5a27d6291c31",
        "colab": {
          "base_uri": "https://localhost:8080/",
          "height": 263
        }
      },
      "source": [
        "# Generate an instance of dSprites image \n",
        "ox, y = get_specific_data(cuda=True)\n",
        "plot_image(ox)\n",
        "# Pass it through VAE to get q(z|x) => N(mu, sigma)\n",
        "mu, sigma = vae.encoder.forward(ox,vae.remap_y(y))\n",
        "# Feed these params to our custom SCM\n",
        "scm = SCM(vae, mu.cpu(), sigma.cpu())\n",
        "print(y)\n",
        "# Check for reconstruction\n"
      ],
      "execution_count": 0,
      "outputs": [
        {
          "output_type": "stream",
          "text": [
            "tensor([[0., 1., 1., 7., 3., 8.]], device='cuda:0')\n"
          ],
          "name": "stdout"
        },
        {
          "output_type": "display_data",
          "data": {
            "image/png": "[encoded data removed]",
            "text/plain": [
              "<Figure size 432x288 with 1 Axes>"
            ]
          },
          "metadata": {
            "tags": []
          }
        }
      ]
    },
    {
      "cell_type": "markdown",
      "metadata": {
        "id": "B1rkIEyL-357",
        "colab_type": "text"
      },
      "source": [
        "## Sanity check 2\n",
        "\n",
        "### To check if the decoder is able to generate the image if the latents are changed:\n",
        "#### To achieve this we manually change the labels in the code and run it through the decoder and check for reconstruction"
      ]
    },
    {
      "cell_type": "code",
      "metadata": {
        "id": "1CcO36iqEf_T",
        "colab_type": "code",
        "outputId": "6d33f261-ca7d-47d7-d6d8-84bb55d6e4dd",
        "colab": {
          "base_uri": "https://localhost:8080/",
          "height": 423
        }
      },
      "source": [
        "original, y_original = get_specific_data(cuda=True)\n",
        "print('top: ',y_original)\n",
        "mu, sigma = vae.encoder.forward(original,vae.remap_y(y_original))\n",
        "B = 100\n",
        "zs = torch.cat([dist.Normal(mu.cpu(), sigma.cpu()).sample() for a in range(B)], 0)\n",
        "ys = torch.cat([vae.remap_y(y_original) for a in range(B)], 0)\n",
        "rs = vae.decoder.forward(zs.cuda(), ys).detach()\n",
        "compare_to_density(original,rs)\n",
        "\n",
        "y_new = torch.tensor(y_original)\n",
        "y_new[0,1] = (y_original[0,1] + 1) % 2\n",
        "print('bottom: ', y_new)\n",
        "zs = torch.cat([dist.Normal(mu.cpu(), sigma.cpu()).sample() for a in range(B)], 0)\n",
        "ys = torch.cat([vae.remap_y(y_new) for a in range(B)], 0)\n",
        "rs = vae.decoder.forward(zs.cuda(), ys).detach()\n",
        "compare_to_density(original,rs)"
      ],
      "execution_count": 0,
      "outputs": [
        {
          "output_type": "stream",
          "text": [
            "top:  tensor([[ 0.,  0.,  4., 34., 30., 20.]], device='cuda:0')\n",
            "bottom:  tensor([[ 0.,  1.,  4., 34., 30., 20.]], device='cuda:0')\n"
          ],
          "name": "stdout"
        },
        {
          "output_type": "display_data",
          "data": {
            "image/png": "[encoded data removed]",
            "text/plain": [
              "<Figure size 432x288 with 2 Axes>"
            ]
          },
          "metadata": {
            "tags": []
          }
        },
        {
          "output_type": "display_data",
          "data": {
            "image/png": "[encoded data removed]",
            "text/plain": [
              "<Figure size 432x288 with 2 Axes>"
            ]
          },
          "metadata": {
            "tags": []
          }
        }
      ]
    },
    {
      "cell_type": "markdown",
      "metadata": {
        "id": "bwyk5S5a7knN",
        "colab_type": "text"
      },
      "source": [
        "## Conditioning the model"
      ]
    },
    {
      "cell_type": "code",
      "metadata": {
        "id": "tQu4lzTMp8QH",
        "colab_type": "code",
        "outputId": "25d34821-3a40-472b-bcbc-a0031a5fcf17",
        "colab": {
          "base_uri": "https://localhost:8080/",
          "height": 32
        }
      },
      "source": [
        "cond_data = {}\n",
        "for i in range(1, 6):\n",
        "    cond_data[\"Y_{}\".format(i)] = torch.tensor(y[0,i].cpu()).to(torch.float32)\n",
        "print(cond_data)"
      ],
      "execution_count": 0,
      "outputs": [
        {
          "output_type": "stream",
          "text": [
            "{'Y_1': tensor(1.), 'Y_2': tensor(1.), 'Y_3': tensor(7.), 'Y_4': tensor(3.), 'Y_5': tensor(8.)}\n"
          ],
          "name": "stdout"
        }
      ]
    },
    {
      "cell_type": "code",
      "metadata": {
        "id": "rtJRtQgJve2A",
        "colab_type": "code",
        "colab": {}
      },
      "source": [
        "# cond_data['Y_1'] = torch.tensor(1.)\n",
        "# cond_data['Y_2'] = torch.tensor(4.)\n",
        "conditioned_model = pyro.condition(scm.model, data=cond_data)\n",
        "\n",
        "\n",
        "cond_noise = scm.update_noise_svi(cond_data)"
      ],
      "execution_count": 0,
      "outputs": []
    },
    {
      "cell_type": "code",
      "metadata": {
        "id": "51hquFlMQfQg",
        "colab_type": "code",
        "outputId": "1fb610a4-8127-4824-b1c2-52e0ff2f6b17",
        "colab": {
          "base_uri": "https://localhost:8080/",
          "height": 32
        }
      },
      "source": [
        "print(cond_data)"
      ],
      "execution_count": 0,
      "outputs": [
        {
          "output_type": "stream",
          "text": [
            "{'Y_1': tensor(0.), 'Y_2': tensor(5.), 'Y_3': tensor(38.), 'Y_4': tensor(23.), 'Y_5': tensor(24.)}\n"
          ],
          "name": "stdout"
        }
      ]
    },
    {
      "cell_type": "code",
      "metadata": {
        "id": "0r2HePhs9DnB",
        "colab_type": "code",
        "outputId": "4527c381-b5ce-4521-91f5-4feeb18583af",
        "colab": {
          "base_uri": "https://localhost:8080/",
          "height": 243
        }
      },
      "source": [
        "rxs = []\n",
        "for i in range(100):\n",
        "     (rx,ry,_), _ = scm.model(cond_noise)\n",
        "     rxs.append(rx)\n",
        "compare_to_density(ox, torch.cat(rxs))\n",
        "_ =plt.suptitle(\"SCM Conditioned on Original\", fontsize=18, fontstyle='italic')\n"
      ],
      "execution_count": 0,
      "outputs": [
        {
          "output_type": "display_data",
          "data": {
            "image/png": "[encoded data removed]",
            "text/plain": [
              "<Figure size 432x288 with 2 Axes>"
            ]
          },
          "metadata": {
            "tags": []
          }
        }
      ]
    },
    {
      "cell_type": "markdown",
      "metadata": {
        "id": "T9q5R5Az7qUO",
        "colab_type": "text"
      },
      "source": [
        "## Counterfactuals"
      ]
    },
    {
      "cell_type": "code",
      "metadata": {
        "id": "4NA_mpKv7t4P",
        "colab_type": "code",
        "colab": {}
      },
      "source": [
        "# intervening on Shape, posX and PosY \n",
        "intervened_model = pyro.do(scm.model, data={\n",
        "    \"Y_1\": torch.tensor(0.),\n",
        "#     \"Y_4\": torch.tensor(5.),\n",
        "#     \"Y_5\": torch.tensor(25.),\n",
        "})\n",
        "noise_data = {}\n",
        "for term, d in cond_noise.items():\n",
        "  noise_data[term] = d.loc\n",
        "# intervened_noise = scm.update_noise_svi(noise_data, intervened_model)"
      ],
      "execution_count": 0,
      "outputs": []
    },
    {
      "cell_type": "code",
      "metadata": {
        "id": "rffN8m75cKrd",
        "colab_type": "code",
        "outputId": "335d0c85-68fa-45c9-adcf-cff671ce130a",
        "colab": {
          "base_uri": "https://localhost:8080/",
          "height": 220
        }
      },
      "source": [
        "(rx1,ry,_), _ = intervened_model(scm.init_noise)\n",
        "compare_to_density(ox, rx1)\n",
        "print(ry)"
      ],
      "execution_count": 0,
      "outputs": [
        {
          "output_type": "stream",
          "text": [
            "(tensor(0.), tensor(3.2465), tensor(17.6539), tensor(13.2784), tensor(16.6717))\n"
          ],
          "name": "stdout"
        },
        {
          "output_type": "display_data",
          "data": {
            "image/png": "[encoded data removed]",
            "text/plain": [
              "<Figure size 432x288 with 2 Axes>"
            ]
          },
          "metadata": {
            "tags": []
          }
        }
      ]
    },
    {
      "cell_type": "code",
      "metadata": {
        "id": "WwvqXamE4hqb",
        "colab_type": "code",
        "outputId": "a9552299-0e05-4e82-836b-2d399aea155b",
        "colab": {
          "base_uri": "https://localhost:8080/",
          "height": 243
        }
      },
      "source": [
        "rxs = []\n",
        "for i in range(100):\n",
        "     (cfo1,ny1,nz1), _= intervened_model(cond_noise)\n",
        "     rxs.append(cfo1)\n",
        "compare_to_density(ox, torch.cat(rxs))\n",
        "_ =plt.suptitle(\"SCM intervened on shape\", fontsize=18, fontstyle='italic')"
      ],
      "execution_count": 0,
      "outputs": [
        {
          "output_type": "display_data",
          "data": {
            "image/png": "[encoded data removed]",
            "text/plain": [
              "<Figure size 432x288 with 2 Axes>"
            ]
          },
          "metadata": {
            "tags": []
          }
        }
      ]
    }
  ]
}